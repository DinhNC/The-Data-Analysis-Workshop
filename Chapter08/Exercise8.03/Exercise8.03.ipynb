{
  "nbformat": 4,
  "nbformat_minor": 0,
  "metadata": {
    "colab": {
      "name": "Exercise8.03.ipynb",
      "provenance": []
    },
    "kernelspec": {
      "name": "python3",
      "display_name": "Python 3"
    }
  },
  "cells": [
    {
      "cell_type": "code",
      "metadata": {
        "id": "uOtwCpbb226Z",
        "colab_type": "code",
        "colab": {}
      },
      "source": [
        "import pandas as pd\n",
        "import numpy as np\n",
        "import seaborn as sns\n",
        "import matplotlib.pyplot as plt\n"
      ],
      "execution_count": 0,
      "outputs": []
    },
    {
      "cell_type": "code",
      "metadata": {
        "id": "o6JF3Q2j28il",
        "colab_type": "code",
        "outputId": "7629a80c-6cf0-4c0b-df1f-a83e4c37fec2",
        "colab": {
          "base_uri": "https://localhost:8080/",
          "height": 204
        }
      },
      "source": [
        "retail = pd.read_csv('https://raw.githubusercontent.com/PacktWorkshops/The-Data-Analysis-Workshop/master/Chapter08/Datasets/online_retail_II.csv')\n",
        "retail.head()\n"
      ],
      "execution_count": 3,
      "outputs": [
        {
          "output_type": "execute_result",
          "data": {
            "text/html": [
              "<div>\n",
              "<style scoped>\n",
              "    .dataframe tbody tr th:only-of-type {\n",
              "        vertical-align: middle;\n",
              "    }\n",
              "\n",
              "    .dataframe tbody tr th {\n",
              "        vertical-align: top;\n",
              "    }\n",
              "\n",
              "    .dataframe thead th {\n",
              "        text-align: right;\n",
              "    }\n",
              "</style>\n",
              "<table border=\"1\" class=\"dataframe\">\n",
              "  <thead>\n",
              "    <tr style=\"text-align: right;\">\n",
              "      <th></th>\n",
              "      <th>Invoice</th>\n",
              "      <th>StockCode</th>\n",
              "      <th>Description</th>\n",
              "      <th>Quantity</th>\n",
              "      <th>InvoiceDate</th>\n",
              "      <th>Price</th>\n",
              "      <th>Customer ID</th>\n",
              "      <th>Country</th>\n",
              "    </tr>\n",
              "  </thead>\n",
              "  <tbody>\n",
              "    <tr>\n",
              "      <th>0</th>\n",
              "      <td>489434</td>\n",
              "      <td>85048</td>\n",
              "      <td>15CM CHRISTMAS GLASS BALL 20 LIGHTS</td>\n",
              "      <td>12</td>\n",
              "      <td>01/12/2009 07:45</td>\n",
              "      <td>6.95</td>\n",
              "      <td>13085.0</td>\n",
              "      <td>United Kingdom</td>\n",
              "    </tr>\n",
              "    <tr>\n",
              "      <th>1</th>\n",
              "      <td>489434</td>\n",
              "      <td>79323P</td>\n",
              "      <td>PINK CHERRY LIGHTS</td>\n",
              "      <td>12</td>\n",
              "      <td>01/12/2009 07:45</td>\n",
              "      <td>6.75</td>\n",
              "      <td>13085.0</td>\n",
              "      <td>United Kingdom</td>\n",
              "    </tr>\n",
              "    <tr>\n",
              "      <th>2</th>\n",
              "      <td>489434</td>\n",
              "      <td>79323W</td>\n",
              "      <td>WHITE CHERRY LIGHTS</td>\n",
              "      <td>12</td>\n",
              "      <td>01/12/2009 07:45</td>\n",
              "      <td>6.75</td>\n",
              "      <td>13085.0</td>\n",
              "      <td>United Kingdom</td>\n",
              "    </tr>\n",
              "    <tr>\n",
              "      <th>3</th>\n",
              "      <td>489434</td>\n",
              "      <td>22041</td>\n",
              "      <td>RECORD FRAME 7\" SINGLE SIZE</td>\n",
              "      <td>48</td>\n",
              "      <td>01/12/2009 07:45</td>\n",
              "      <td>2.10</td>\n",
              "      <td>13085.0</td>\n",
              "      <td>United Kingdom</td>\n",
              "    </tr>\n",
              "    <tr>\n",
              "      <th>4</th>\n",
              "      <td>489434</td>\n",
              "      <td>21232</td>\n",
              "      <td>STRAWBERRY CERAMIC TRINKET BOX</td>\n",
              "      <td>24</td>\n",
              "      <td>01/12/2009 07:45</td>\n",
              "      <td>1.25</td>\n",
              "      <td>13085.0</td>\n",
              "      <td>United Kingdom</td>\n",
              "    </tr>\n",
              "  </tbody>\n",
              "</table>\n",
              "</div>"
            ],
            "text/plain": [
              "  Invoice StockCode  ... Customer ID         Country\n",
              "0  489434     85048  ...     13085.0  United Kingdom\n",
              "1  489434    79323P  ...     13085.0  United Kingdom\n",
              "2  489434    79323W  ...     13085.0  United Kingdom\n",
              "3  489434     22041  ...     13085.0  United Kingdom\n",
              "4  489434     21232  ...     13085.0  United Kingdom\n",
              "\n",
              "[5 rows x 8 columns]"
            ]
          },
          "metadata": {
            "tags": []
          },
          "execution_count": 3
        }
      ]
    },
    {
      "cell_type": "code",
      "metadata": {
        "id": "wd6smOJG3DkT",
        "colab_type": "code",
        "outputId": "caf32d5b-322e-48dd-9534-4563882d49d5",
        "colab": {
          "base_uri": "https://localhost:8080/",
          "height": 204
        }
      },
      "source": [
        "\n",
        "retail.rename(index = str, columns = {\n",
        "    'Invoice' : 'invoice', \n",
        "    'StockCode' : 'stock_code', \n",
        "    'Quantity' : 'quantity', \n",
        "    'InvoiceDate' : 'date', \n",
        "    'Price' : 'unit_price', \n",
        "    'Country' : 'country', \n",
        "    'Description' : 'desc', \n",
        "    'Customer ID' : 'cust_id'\n",
        "}, inplace = True)\n",
        "\n",
        "retail.head()"
      ],
      "execution_count": 4,
      "outputs": [
        {
          "output_type": "execute_result",
          "data": {
            "text/html": [
              "<div>\n",
              "<style scoped>\n",
              "    .dataframe tbody tr th:only-of-type {\n",
              "        vertical-align: middle;\n",
              "    }\n",
              "\n",
              "    .dataframe tbody tr th {\n",
              "        vertical-align: top;\n",
              "    }\n",
              "\n",
              "    .dataframe thead th {\n",
              "        text-align: right;\n",
              "    }\n",
              "</style>\n",
              "<table border=\"1\" class=\"dataframe\">\n",
              "  <thead>\n",
              "    <tr style=\"text-align: right;\">\n",
              "      <th></th>\n",
              "      <th>invoice</th>\n",
              "      <th>stock_code</th>\n",
              "      <th>desc</th>\n",
              "      <th>quantity</th>\n",
              "      <th>date</th>\n",
              "      <th>unit_price</th>\n",
              "      <th>cust_id</th>\n",
              "      <th>country</th>\n",
              "    </tr>\n",
              "  </thead>\n",
              "  <tbody>\n",
              "    <tr>\n",
              "      <th>0</th>\n",
              "      <td>489434</td>\n",
              "      <td>85048</td>\n",
              "      <td>15CM CHRISTMAS GLASS BALL 20 LIGHTS</td>\n",
              "      <td>12</td>\n",
              "      <td>01/12/2009 07:45</td>\n",
              "      <td>6.95</td>\n",
              "      <td>13085.0</td>\n",
              "      <td>United Kingdom</td>\n",
              "    </tr>\n",
              "    <tr>\n",
              "      <th>1</th>\n",
              "      <td>489434</td>\n",
              "      <td>79323P</td>\n",
              "      <td>PINK CHERRY LIGHTS</td>\n",
              "      <td>12</td>\n",
              "      <td>01/12/2009 07:45</td>\n",
              "      <td>6.75</td>\n",
              "      <td>13085.0</td>\n",
              "      <td>United Kingdom</td>\n",
              "    </tr>\n",
              "    <tr>\n",
              "      <th>2</th>\n",
              "      <td>489434</td>\n",
              "      <td>79323W</td>\n",
              "      <td>WHITE CHERRY LIGHTS</td>\n",
              "      <td>12</td>\n",
              "      <td>01/12/2009 07:45</td>\n",
              "      <td>6.75</td>\n",
              "      <td>13085.0</td>\n",
              "      <td>United Kingdom</td>\n",
              "    </tr>\n",
              "    <tr>\n",
              "      <th>3</th>\n",
              "      <td>489434</td>\n",
              "      <td>22041</td>\n",
              "      <td>RECORD FRAME 7\" SINGLE SIZE</td>\n",
              "      <td>48</td>\n",
              "      <td>01/12/2009 07:45</td>\n",
              "      <td>2.10</td>\n",
              "      <td>13085.0</td>\n",
              "      <td>United Kingdom</td>\n",
              "    </tr>\n",
              "    <tr>\n",
              "      <th>4</th>\n",
              "      <td>489434</td>\n",
              "      <td>21232</td>\n",
              "      <td>STRAWBERRY CERAMIC TRINKET BOX</td>\n",
              "      <td>24</td>\n",
              "      <td>01/12/2009 07:45</td>\n",
              "      <td>1.25</td>\n",
              "      <td>13085.0</td>\n",
              "      <td>United Kingdom</td>\n",
              "    </tr>\n",
              "  </tbody>\n",
              "</table>\n",
              "</div>"
            ],
            "text/plain": [
              "  invoice stock_code  ...  cust_id         country\n",
              "0  489434      85048  ...  13085.0  United Kingdom\n",
              "1  489434     79323P  ...  13085.0  United Kingdom\n",
              "2  489434     79323W  ...  13085.0  United Kingdom\n",
              "3  489434      22041  ...  13085.0  United Kingdom\n",
              "4  489434      21232  ...  13085.0  United Kingdom\n",
              "\n",
              "[5 rows x 8 columns]"
            ]
          },
          "metadata": {
            "tags": []
          },
          "execution_count": 4
        }
      ]
    },
    {
      "cell_type": "code",
      "metadata": {
        "id": "4Ty38CBI3Khb",
        "colab_type": "code",
        "outputId": "f51c4677-680f-49c3-9e6b-08682207ef56",
        "colab": {
          "base_uri": "https://localhost:8080/",
          "height": 238
        }
      },
      "source": [
        "retail.info()"
      ],
      "execution_count": 5,
      "outputs": [
        {
          "output_type": "stream",
          "text": [
            "<class 'pandas.core.frame.DataFrame'>\n",
            "Index: 525461 entries, 0 to 525460\n",
            "Data columns (total 8 columns):\n",
            "invoice       525461 non-null object\n",
            "stock_code    525461 non-null object\n",
            "desc          522533 non-null object\n",
            "quantity      525461 non-null int64\n",
            "date          525461 non-null object\n",
            "unit_price    525461 non-null float64\n",
            "cust_id       417534 non-null float64\n",
            "country       525461 non-null object\n",
            "dtypes: float64(2), int64(1), object(5)\n",
            "memory usage: 36.1+ MB\n"
          ],
          "name": "stdout"
        }
      ]
    },
    {
      "cell_type": "code",
      "metadata": {
        "id": "Ftdl0yR83OAS",
        "colab_type": "code",
        "outputId": "fb6cc16b-d60c-4b23-9d97-f4909840421c",
        "colab": {
          "base_uri": "https://localhost:8080/",
          "height": 170
        }
      },
      "source": [
        "retail.isnull().sum().sort_values(ascending = False)"
      ],
      "execution_count": 6,
      "outputs": [
        {
          "output_type": "execute_result",
          "data": {
            "text/plain": [
              "cust_id       107927\n",
              "desc            2928\n",
              "country            0\n",
              "unit_price         0\n",
              "date               0\n",
              "quantity           0\n",
              "stock_code         0\n",
              "invoice            0\n",
              "dtype: int64"
            ]
          },
          "metadata": {
            "tags": []
          },
          "execution_count": 6
        }
      ]
    },
    {
      "cell_type": "code",
      "metadata": {
        "id": "7mLoj6Kc3Qxc",
        "colab_type": "code",
        "outputId": "24332057-58d9-44d8-dcfb-89e175af581e",
        "colab": {
          "base_uri": "https://localhost:8080/",
          "height": 297
        }
      },
      "source": [
        "retail.describe()"
      ],
      "execution_count": 7,
      "outputs": [
        {
          "output_type": "execute_result",
          "data": {
            "text/html": [
              "<div>\n",
              "<style scoped>\n",
              "    .dataframe tbody tr th:only-of-type {\n",
              "        vertical-align: middle;\n",
              "    }\n",
              "\n",
              "    .dataframe tbody tr th {\n",
              "        vertical-align: top;\n",
              "    }\n",
              "\n",
              "    .dataframe thead th {\n",
              "        text-align: right;\n",
              "    }\n",
              "</style>\n",
              "<table border=\"1\" class=\"dataframe\">\n",
              "  <thead>\n",
              "    <tr style=\"text-align: right;\">\n",
              "      <th></th>\n",
              "      <th>quantity</th>\n",
              "      <th>unit_price</th>\n",
              "      <th>cust_id</th>\n",
              "    </tr>\n",
              "  </thead>\n",
              "  <tbody>\n",
              "    <tr>\n",
              "      <th>count</th>\n",
              "      <td>525461.000000</td>\n",
              "      <td>525461.000000</td>\n",
              "      <td>417534.000000</td>\n",
              "    </tr>\n",
              "    <tr>\n",
              "      <th>mean</th>\n",
              "      <td>10.337667</td>\n",
              "      <td>4.688834</td>\n",
              "      <td>15360.645478</td>\n",
              "    </tr>\n",
              "    <tr>\n",
              "      <th>std</th>\n",
              "      <td>107.424110</td>\n",
              "      <td>146.126914</td>\n",
              "      <td>1680.811316</td>\n",
              "    </tr>\n",
              "    <tr>\n",
              "      <th>min</th>\n",
              "      <td>-9600.000000</td>\n",
              "      <td>-53594.360000</td>\n",
              "      <td>12346.000000</td>\n",
              "    </tr>\n",
              "    <tr>\n",
              "      <th>25%</th>\n",
              "      <td>1.000000</td>\n",
              "      <td>1.250000</td>\n",
              "      <td>13983.000000</td>\n",
              "    </tr>\n",
              "    <tr>\n",
              "      <th>50%</th>\n",
              "      <td>3.000000</td>\n",
              "      <td>2.100000</td>\n",
              "      <td>15311.000000</td>\n",
              "    </tr>\n",
              "    <tr>\n",
              "      <th>75%</th>\n",
              "      <td>10.000000</td>\n",
              "      <td>4.210000</td>\n",
              "      <td>16799.000000</td>\n",
              "    </tr>\n",
              "    <tr>\n",
              "      <th>max</th>\n",
              "      <td>19152.000000</td>\n",
              "      <td>25111.090000</td>\n",
              "      <td>18287.000000</td>\n",
              "    </tr>\n",
              "  </tbody>\n",
              "</table>\n",
              "</div>"
            ],
            "text/plain": [
              "            quantity     unit_price        cust_id\n",
              "count  525461.000000  525461.000000  417534.000000\n",
              "mean       10.337667       4.688834   15360.645478\n",
              "std       107.424110     146.126914    1680.811316\n",
              "min     -9600.000000  -53594.360000   12346.000000\n",
              "25%         1.000000       1.250000   13983.000000\n",
              "50%         3.000000       2.100000   15311.000000\n",
              "75%        10.000000       4.210000   16799.000000\n",
              "max     19152.000000   25111.090000   18287.000000"
            ]
          },
          "metadata": {
            "tags": []
          },
          "execution_count": 7
        }
      ]
    },
    {
      "cell_type": "code",
      "metadata": {
        "id": "_ebHJxaO3WPL",
        "colab_type": "code",
        "outputId": "9612abc5-89f5-4fb9-e3e2-f8dfdf8dc983",
        "colab": {
          "base_uri": "https://localhost:8080/",
          "height": 111
        }
      },
      "source": [
        "retail.loc[retail['unit_price'] == 25111.090000]"
      ],
      "execution_count": 8,
      "outputs": [
        {
          "output_type": "execute_result",
          "data": {
            "text/html": [
              "<div>\n",
              "<style scoped>\n",
              "    .dataframe tbody tr th:only-of-type {\n",
              "        vertical-align: middle;\n",
              "    }\n",
              "\n",
              "    .dataframe tbody tr th {\n",
              "        vertical-align: top;\n",
              "    }\n",
              "\n",
              "    .dataframe thead th {\n",
              "        text-align: right;\n",
              "    }\n",
              "</style>\n",
              "<table border=\"1\" class=\"dataframe\">\n",
              "  <thead>\n",
              "    <tr style=\"text-align: right;\">\n",
              "      <th></th>\n",
              "      <th>invoice</th>\n",
              "      <th>stock_code</th>\n",
              "      <th>desc</th>\n",
              "      <th>quantity</th>\n",
              "      <th>date</th>\n",
              "      <th>unit_price</th>\n",
              "      <th>cust_id</th>\n",
              "      <th>country</th>\n",
              "    </tr>\n",
              "  </thead>\n",
              "  <tbody>\n",
              "    <tr>\n",
              "      <th>241824</th>\n",
              "      <td>C512770</td>\n",
              "      <td>M</td>\n",
              "      <td>Manual</td>\n",
              "      <td>-1</td>\n",
              "      <td>17/06/2010 16:52</td>\n",
              "      <td>25111.09</td>\n",
              "      <td>17399.0</td>\n",
              "      <td>United Kingdom</td>\n",
              "    </tr>\n",
              "    <tr>\n",
              "      <th>241827</th>\n",
              "      <td>512771</td>\n",
              "      <td>M</td>\n",
              "      <td>Manual</td>\n",
              "      <td>1</td>\n",
              "      <td>17/06/2010 16:53</td>\n",
              "      <td>25111.09</td>\n",
              "      <td>NaN</td>\n",
              "      <td>United Kingdom</td>\n",
              "    </tr>\n",
              "  </tbody>\n",
              "</table>\n",
              "</div>"
            ],
            "text/plain": [
              "        invoice stock_code    desc  ...  unit_price  cust_id         country\n",
              "241824  C512770          M  Manual  ...    25111.09  17399.0  United Kingdom\n",
              "241827   512771          M  Manual  ...    25111.09      NaN  United Kingdom\n",
              "\n",
              "[2 rows x 8 columns]"
            ]
          },
          "metadata": {
            "tags": []
          },
          "execution_count": 8
        }
      ]
    },
    {
      "cell_type": "code",
      "metadata": {
        "id": "mSM6ufhJ3YE7",
        "colab_type": "code",
        "outputId": "cf2be804-2912-4ead-9f3a-e76dd0fae309",
        "colab": {
          "base_uri": "https://localhost:8080/",
          "height": 80
        }
      },
      "source": [
        "retail.loc[retail['unit_price'] == -53594.360000]"
      ],
      "execution_count": 9,
      "outputs": [
        {
          "output_type": "execute_result",
          "data": {
            "text/html": [
              "<div>\n",
              "<style scoped>\n",
              "    .dataframe tbody tr th:only-of-type {\n",
              "        vertical-align: middle;\n",
              "    }\n",
              "\n",
              "    .dataframe tbody tr th {\n",
              "        vertical-align: top;\n",
              "    }\n",
              "\n",
              "    .dataframe thead th {\n",
              "        text-align: right;\n",
              "    }\n",
              "</style>\n",
              "<table border=\"1\" class=\"dataframe\">\n",
              "  <thead>\n",
              "    <tr style=\"text-align: right;\">\n",
              "      <th></th>\n",
              "      <th>invoice</th>\n",
              "      <th>stock_code</th>\n",
              "      <th>desc</th>\n",
              "      <th>quantity</th>\n",
              "      <th>date</th>\n",
              "      <th>unit_price</th>\n",
              "      <th>cust_id</th>\n",
              "      <th>country</th>\n",
              "    </tr>\n",
              "  </thead>\n",
              "  <tbody>\n",
              "    <tr>\n",
              "      <th>179403</th>\n",
              "      <td>A506401</td>\n",
              "      <td>B</td>\n",
              "      <td>Adjust bad debt</td>\n",
              "      <td>1</td>\n",
              "      <td>29/04/2010 13:36</td>\n",
              "      <td>-53594.36</td>\n",
              "      <td>NaN</td>\n",
              "      <td>United Kingdom</td>\n",
              "    </tr>\n",
              "  </tbody>\n",
              "</table>\n",
              "</div>"
            ],
            "text/plain": [
              "        invoice stock_code  ... cust_id         country\n",
              "179403  A506401          B  ...     NaN  United Kingdom\n",
              "\n",
              "[1 rows x 8 columns]"
            ]
          },
          "metadata": {
            "tags": []
          },
          "execution_count": 9
        }
      ]
    },
    {
      "cell_type": "code",
      "metadata": {
        "id": "-xsbA5GN3hK4",
        "colab_type": "code",
        "outputId": "7bb505b9-cbca-4896-d3f6-567d476c7d92",
        "colab": {
          "base_uri": "https://localhost:8080/",
          "height": 34
        }
      },
      "source": [
        "(retail['unit_price'] <= 0).sum()"
      ],
      "execution_count": 10,
      "outputs": [
        {
          "output_type": "execute_result",
          "data": {
            "text/plain": [
              "3690"
            ]
          },
          "metadata": {
            "tags": []
          },
          "execution_count": 10
        }
      ]
    },
    {
      "cell_type": "code",
      "metadata": {
        "id": "VCZTw7GA3jEx",
        "colab_type": "code",
        "outputId": "9eb37c71-bc4c-4020-afe3-b3677ad98650",
        "colab": {
          "base_uri": "https://localhost:8080/",
          "height": 34
        }
      },
      "source": [
        "(retail['quantity'] <= 0).sum()"
      ],
      "execution_count": 11,
      "outputs": [
        {
          "output_type": "execute_result",
          "data": {
            "text/plain": [
              "12326"
            ]
          },
          "metadata": {
            "tags": []
          },
          "execution_count": 11
        }
      ]
    },
    {
      "cell_type": "code",
      "metadata": {
        "id": "KqpWFgpk3kWA",
        "colab_type": "code",
        "outputId": "624d9302-1483-4377-9342-df51278bf17b",
        "colab": {
          "base_uri": "https://localhost:8080/",
          "height": 34
        }
      },
      "source": [
        "((retail['unit_price'] <= 0) & (retail['quantity'] <= 0) & (retail['cust_id'].isnull())).sum()"
      ],
      "execution_count": 12,
      "outputs": [
        {
          "output_type": "execute_result",
          "data": {
            "text/plain": [
              "2121"
            ]
          },
          "metadata": {
            "tags": []
          },
          "execution_count": 12
        }
      ]
    },
    {
      "cell_type": "code",
      "metadata": {
        "id": "Zcn2wNYo3s-v",
        "colab_type": "code",
        "outputId": "e0ed5388-8de7-4c3e-fb8d-a58c171e1191",
        "colab": {
          "base_uri": "https://localhost:8080/",
          "height": 204
        }
      },
      "source": [
        "null_retail = retail[retail.isnull().any(axis=1)]\n",
        "null_retail.head()\n"
      ],
      "execution_count": 13,
      "outputs": [
        {
          "output_type": "execute_result",
          "data": {
            "text/html": [
              "<div>\n",
              "<style scoped>\n",
              "    .dataframe tbody tr th:only-of-type {\n",
              "        vertical-align: middle;\n",
              "    }\n",
              "\n",
              "    .dataframe tbody tr th {\n",
              "        vertical-align: top;\n",
              "    }\n",
              "\n",
              "    .dataframe thead th {\n",
              "        text-align: right;\n",
              "    }\n",
              "</style>\n",
              "<table border=\"1\" class=\"dataframe\">\n",
              "  <thead>\n",
              "    <tr style=\"text-align: right;\">\n",
              "      <th></th>\n",
              "      <th>invoice</th>\n",
              "      <th>stock_code</th>\n",
              "      <th>desc</th>\n",
              "      <th>quantity</th>\n",
              "      <th>date</th>\n",
              "      <th>unit_price</th>\n",
              "      <th>cust_id</th>\n",
              "      <th>country</th>\n",
              "    </tr>\n",
              "  </thead>\n",
              "  <tbody>\n",
              "    <tr>\n",
              "      <th>263</th>\n",
              "      <td>489464</td>\n",
              "      <td>21733</td>\n",
              "      <td>85123a mixed</td>\n",
              "      <td>-96</td>\n",
              "      <td>01/12/2009 10:52</td>\n",
              "      <td>0.00</td>\n",
              "      <td>NaN</td>\n",
              "      <td>United Kingdom</td>\n",
              "    </tr>\n",
              "    <tr>\n",
              "      <th>283</th>\n",
              "      <td>489463</td>\n",
              "      <td>71477</td>\n",
              "      <td>short</td>\n",
              "      <td>-240</td>\n",
              "      <td>01/12/2009 10:52</td>\n",
              "      <td>0.00</td>\n",
              "      <td>NaN</td>\n",
              "      <td>United Kingdom</td>\n",
              "    </tr>\n",
              "    <tr>\n",
              "      <th>284</th>\n",
              "      <td>489467</td>\n",
              "      <td>85123A</td>\n",
              "      <td>21733 mixed</td>\n",
              "      <td>-192</td>\n",
              "      <td>01/12/2009 10:53</td>\n",
              "      <td>0.00</td>\n",
              "      <td>NaN</td>\n",
              "      <td>United Kingdom</td>\n",
              "    </tr>\n",
              "    <tr>\n",
              "      <th>470</th>\n",
              "      <td>489521</td>\n",
              "      <td>21646</td>\n",
              "      <td>NaN</td>\n",
              "      <td>-50</td>\n",
              "      <td>01/12/2009 11:44</td>\n",
              "      <td>0.00</td>\n",
              "      <td>NaN</td>\n",
              "      <td>United Kingdom</td>\n",
              "    </tr>\n",
              "    <tr>\n",
              "      <th>577</th>\n",
              "      <td>489525</td>\n",
              "      <td>85226C</td>\n",
              "      <td>BLUE PULL BACK RACING CAR</td>\n",
              "      <td>1</td>\n",
              "      <td>01/12/2009 11:49</td>\n",
              "      <td>0.55</td>\n",
              "      <td>NaN</td>\n",
              "      <td>United Kingdom</td>\n",
              "    </tr>\n",
              "  </tbody>\n",
              "</table>\n",
              "</div>"
            ],
            "text/plain": [
              "    invoice stock_code  ... cust_id         country\n",
              "263  489464      21733  ...     NaN  United Kingdom\n",
              "283  489463      71477  ...     NaN  United Kingdom\n",
              "284  489467     85123A  ...     NaN  United Kingdom\n",
              "470  489521      21646  ...     NaN  United Kingdom\n",
              "577  489525     85226C  ...     NaN  United Kingdom\n",
              "\n",
              "[5 rows x 8 columns]"
            ]
          },
          "metadata": {
            "tags": []
          },
          "execution_count": 13
        }
      ]
    },
    {
      "cell_type": "code",
      "metadata": {
        "id": "cpeKtu4W3uUG",
        "colab_type": "code",
        "colab": {}
      },
      "source": [
        "new_retail = retail.dropna()"
      ],
      "execution_count": 0,
      "outputs": []
    },
    {
      "cell_type": "code",
      "metadata": {
        "id": "D-r6Ha4A31lx",
        "colab_type": "code",
        "colab": {}
      },
      "source": [
        "new_retail = new_retail[(new_retail['unit_price'] > 0) & (new_retail['quantity'] > 0)]"
      ],
      "execution_count": 0,
      "outputs": []
    },
    {
      "cell_type": "code",
      "metadata": {
        "id": "6ZtwuBiE33P-",
        "colab_type": "code",
        "outputId": "88be4379-8fdc-4470-b5fd-9de561e8402b",
        "colab": {
          "base_uri": "https://localhost:8080/",
          "height": 297
        }
      },
      "source": [
        "new_retail.describe()"
      ],
      "execution_count": 16,
      "outputs": [
        {
          "output_type": "execute_result",
          "data": {
            "text/html": [
              "<div>\n",
              "<style scoped>\n",
              "    .dataframe tbody tr th:only-of-type {\n",
              "        vertical-align: middle;\n",
              "    }\n",
              "\n",
              "    .dataframe tbody tr th {\n",
              "        vertical-align: top;\n",
              "    }\n",
              "\n",
              "    .dataframe thead th {\n",
              "        text-align: right;\n",
              "    }\n",
              "</style>\n",
              "<table border=\"1\" class=\"dataframe\">\n",
              "  <thead>\n",
              "    <tr style=\"text-align: right;\">\n",
              "      <th></th>\n",
              "      <th>quantity</th>\n",
              "      <th>unit_price</th>\n",
              "      <th>cust_id</th>\n",
              "    </tr>\n",
              "  </thead>\n",
              "  <tbody>\n",
              "    <tr>\n",
              "      <th>count</th>\n",
              "      <td>407664.000000</td>\n",
              "      <td>407664.000000</td>\n",
              "      <td>407664.000000</td>\n",
              "    </tr>\n",
              "    <tr>\n",
              "      <th>mean</th>\n",
              "      <td>13.585585</td>\n",
              "      <td>3.294438</td>\n",
              "      <td>15368.592598</td>\n",
              "    </tr>\n",
              "    <tr>\n",
              "      <th>std</th>\n",
              "      <td>96.840747</td>\n",
              "      <td>34.757965</td>\n",
              "      <td>1679.762138</td>\n",
              "    </tr>\n",
              "    <tr>\n",
              "      <th>min</th>\n",
              "      <td>1.000000</td>\n",
              "      <td>0.001000</td>\n",
              "      <td>12346.000000</td>\n",
              "    </tr>\n",
              "    <tr>\n",
              "      <th>25%</th>\n",
              "      <td>2.000000</td>\n",
              "      <td>1.250000</td>\n",
              "      <td>13997.000000</td>\n",
              "    </tr>\n",
              "    <tr>\n",
              "      <th>50%</th>\n",
              "      <td>5.000000</td>\n",
              "      <td>1.950000</td>\n",
              "      <td>15321.000000</td>\n",
              "    </tr>\n",
              "    <tr>\n",
              "      <th>75%</th>\n",
              "      <td>12.000000</td>\n",
              "      <td>3.750000</td>\n",
              "      <td>16812.000000</td>\n",
              "    </tr>\n",
              "    <tr>\n",
              "      <th>max</th>\n",
              "      <td>19152.000000</td>\n",
              "      <td>10953.500000</td>\n",
              "      <td>18287.000000</td>\n",
              "    </tr>\n",
              "  </tbody>\n",
              "</table>\n",
              "</div>"
            ],
            "text/plain": [
              "            quantity     unit_price        cust_id\n",
              "count  407664.000000  407664.000000  407664.000000\n",
              "mean       13.585585       3.294438   15368.592598\n",
              "std        96.840747      34.757965    1679.762138\n",
              "min         1.000000       0.001000   12346.000000\n",
              "25%         2.000000       1.250000   13997.000000\n",
              "50%         5.000000       1.950000   15321.000000\n",
              "75%        12.000000       3.750000   16812.000000\n",
              "max     19152.000000   10953.500000   18287.000000"
            ]
          },
          "metadata": {
            "tags": []
          },
          "execution_count": 16
        }
      ]
    },
    {
      "cell_type": "code",
      "metadata": {
        "id": "-Dzq-Mbl35e2",
        "colab_type": "code",
        "outputId": "e67ba666-9789-4b8c-bd1e-3f46e2087470",
        "colab": {
          "base_uri": "https://localhost:8080/",
          "height": 389
        }
      },
      "source": [
        "\n",
        "plt.subplots(figsize = (12, 6))\n",
        "up = sns.boxplot(new_retail.unit_price)"
      ],
      "execution_count": 17,
      "outputs": [
        {
          "output_type": "display_data",
          "data": {
            "image/png": "[encoded data removed]",
            "text/plain": [
              "<Figure size 864x432 with 1 Axes>"
            ]
          },
          "metadata": {
            "tags": []
          }
        }
      ]
    },
    {
      "cell_type": "code",
      "metadata": {
        "id": "S0GU-c7S4ANN",
        "colab_type": "code",
        "outputId": "17b50bb9-8030-4912-a800-acd995480c1d",
        "colab": {
          "base_uri": "https://localhost:8080/",
          "height": 51
        }
      },
      "source": [
        "new_retail = new_retail[retail.unit_price < 6000]"
      ],
      "execution_count": 18,
      "outputs": [
        {
          "output_type": "stream",
          "text": [
            "/usr/local/lib/python3.6/dist-packages/ipykernel_launcher.py:1: UserWarning: Boolean Series key will be reindexed to match DataFrame index.\n",
            "  \"\"\"Entry point for launching an IPython kernel.\n"
          ],
          "name": "stderr"
        }
      ]
    },
    {
      "cell_type": "code",
      "metadata": {
        "id": "eOyZ38ii4CA2",
        "colab_type": "code",
        "outputId": "1af3344f-8cc2-4bd0-ba14-fed3ad351018",
        "colab": {
          "base_uri": "https://localhost:8080/",
          "height": 297
        }
      },
      "source": [
        "\n",
        "new_retail.describe()"
      ],
      "execution_count": 19,
      "outputs": [
        {
          "output_type": "execute_result",
          "data": {
            "text/html": [
              "<div>\n",
              "<style scoped>\n",
              "    .dataframe tbody tr th:only-of-type {\n",
              "        vertical-align: middle;\n",
              "    }\n",
              "\n",
              "    .dataframe tbody tr th {\n",
              "        vertical-align: top;\n",
              "    }\n",
              "\n",
              "    .dataframe thead th {\n",
              "        text-align: right;\n",
              "    }\n",
              "</style>\n",
              "<table border=\"1\" class=\"dataframe\">\n",
              "  <thead>\n",
              "    <tr style=\"text-align: right;\">\n",
              "      <th></th>\n",
              "      <th>quantity</th>\n",
              "      <th>unit_price</th>\n",
              "      <th>cust_id</th>\n",
              "    </tr>\n",
              "  </thead>\n",
              "  <tbody>\n",
              "    <tr>\n",
              "      <th>count</th>\n",
              "      <td>407659.000000</td>\n",
              "      <td>407659.000000</td>\n",
              "      <td>407659.000000</td>\n",
              "    </tr>\n",
              "    <tr>\n",
              "      <th>mean</th>\n",
              "      <td>13.585740</td>\n",
              "      <td>3.185750</td>\n",
              "      <td>15368.593562</td>\n",
              "    </tr>\n",
              "    <tr>\n",
              "      <th>std</th>\n",
              "      <td>96.841331</td>\n",
              "      <td>14.494341</td>\n",
              "      <td>1679.761725</td>\n",
              "    </tr>\n",
              "    <tr>\n",
              "      <th>min</th>\n",
              "      <td>1.000000</td>\n",
              "      <td>0.001000</td>\n",
              "      <td>12346.000000</td>\n",
              "    </tr>\n",
              "    <tr>\n",
              "      <th>25%</th>\n",
              "      <td>2.000000</td>\n",
              "      <td>1.250000</td>\n",
              "      <td>13997.000000</td>\n",
              "    </tr>\n",
              "    <tr>\n",
              "      <th>50%</th>\n",
              "      <td>5.000000</td>\n",
              "      <td>1.950000</td>\n",
              "      <td>15321.000000</td>\n",
              "    </tr>\n",
              "    <tr>\n",
              "      <th>75%</th>\n",
              "      <td>12.000000</td>\n",
              "      <td>3.750000</td>\n",
              "      <td>16812.000000</td>\n",
              "    </tr>\n",
              "    <tr>\n",
              "      <th>max</th>\n",
              "      <td>19152.000000</td>\n",
              "      <td>3610.500000</td>\n",
              "      <td>18287.000000</td>\n",
              "    </tr>\n",
              "  </tbody>\n",
              "</table>\n",
              "</div>"
            ],
            "text/plain": [
              "            quantity     unit_price        cust_id\n",
              "count  407659.000000  407659.000000  407659.000000\n",
              "mean       13.585740       3.185750   15368.593562\n",
              "std        96.841331      14.494341    1679.761725\n",
              "min         1.000000       0.001000   12346.000000\n",
              "25%         2.000000       1.250000   13997.000000\n",
              "50%         5.000000       1.950000   15321.000000\n",
              "75%        12.000000       3.750000   16812.000000\n",
              "max     19152.000000    3610.500000   18287.000000"
            ]
          },
          "metadata": {
            "tags": []
          },
          "execution_count": 19
        }
      ]
    },
    {
      "cell_type": "code",
      "metadata": {
        "id": "lqndq7ep4MlW",
        "colab_type": "code",
        "outputId": "c76150d6-38e3-4ba9-f9af-974309949a94",
        "colab": {
          "base_uri": "https://localhost:8080/",
          "height": 280
        }
      },
      "source": [
        "up_new = sns.boxplot(new_retail.unit_price)"
      ],
      "execution_count": 20,
      "outputs": [
        {
          "output_type": "display_data",
          "data": {
            "image/png": "[encoded data removed]",
            "text/plain": [
              "<Figure size 432x288 with 1 Axes>"
            ]
          },
          "metadata": {
            "tags": []
          }
        }
      ]
    },
    {
      "cell_type": "code",
      "metadata": {
        "id": "q0EDlr-W4TOF",
        "colab_type": "code",
        "outputId": "580d276a-bc1b-479d-83ca-131c54c0794e",
        "colab": {
          "base_uri": "https://localhost:8080/",
          "height": 388
        }
      },
      "source": [
        "plt.subplots(figsize = (12, 6))\n",
        "q = sns.boxplot(new_retail.quantity)"
      ],
      "execution_count": 21,
      "outputs": [
        {
          "output_type": "display_data",
          "data": {
            "image/png": "[encoded data removed]",
            "text/plain": [
              "<Figure size 864x432 with 1 Axes>"
            ]
          },
          "metadata": {
            "tags": []
          }
        }
      ]
    },
    {
      "cell_type": "code",
      "metadata": {
        "id": "gMnvTANe4VdM",
        "colab_type": "code",
        "outputId": "6aeafba9-7b88-440a-b607-0c54e75e4c7d",
        "colab": {
          "base_uri": "https://localhost:8080/",
          "height": 51
        }
      },
      "source": [
        "new_retail = new_retail[retail.quantity < 15000]"
      ],
      "execution_count": 22,
      "outputs": [
        {
          "output_type": "stream",
          "text": [
            "/usr/local/lib/python3.6/dist-packages/ipykernel_launcher.py:1: UserWarning: Boolean Series key will be reindexed to match DataFrame index.\n",
            "  \"\"\"Entry point for launching an IPython kernel.\n"
          ],
          "name": "stderr"
        }
      ]
    },
    {
      "cell_type": "code",
      "metadata": {
        "id": "xNsH2Wy94iPm",
        "colab_type": "code",
        "outputId": "22fa09f0-1063-45f2-c6e3-fbc1c809fa03",
        "colab": {
          "base_uri": "https://localhost:8080/",
          "height": 297
        }
      },
      "source": [
        "new_retail.describe()\n"
      ],
      "execution_count": 23,
      "outputs": [
        {
          "output_type": "execute_result",
          "data": {
            "text/html": [
              "<div>\n",
              "<style scoped>\n",
              "    .dataframe tbody tr th:only-of-type {\n",
              "        vertical-align: middle;\n",
              "    }\n",
              "\n",
              "    .dataframe tbody tr th {\n",
              "        vertical-align: top;\n",
              "    }\n",
              "\n",
              "    .dataframe thead th {\n",
              "        text-align: right;\n",
              "    }\n",
              "</style>\n",
              "<table border=\"1\" class=\"dataframe\">\n",
              "  <thead>\n",
              "    <tr style=\"text-align: right;\">\n",
              "      <th></th>\n",
              "      <th>quantity</th>\n",
              "      <th>unit_price</th>\n",
              "      <th>cust_id</th>\n",
              "    </tr>\n",
              "  </thead>\n",
              "  <tbody>\n",
              "    <tr>\n",
              "      <th>count</th>\n",
              "      <td>407658.000000</td>\n",
              "      <td>407658.000000</td>\n",
              "      <td>407658.000000</td>\n",
              "    </tr>\n",
              "    <tr>\n",
              "      <th>mean</th>\n",
              "      <td>13.538792</td>\n",
              "      <td>3.185757</td>\n",
              "      <td>15368.597160</td>\n",
              "    </tr>\n",
              "    <tr>\n",
              "      <th>std</th>\n",
              "      <td>92.085647</td>\n",
              "      <td>14.494358</td>\n",
              "      <td>1679.762214</td>\n",
              "    </tr>\n",
              "    <tr>\n",
              "      <th>min</th>\n",
              "      <td>1.000000</td>\n",
              "      <td>0.001000</td>\n",
              "      <td>12346.000000</td>\n",
              "    </tr>\n",
              "    <tr>\n",
              "      <th>25%</th>\n",
              "      <td>2.000000</td>\n",
              "      <td>1.250000</td>\n",
              "      <td>13997.000000</td>\n",
              "    </tr>\n",
              "    <tr>\n",
              "      <th>50%</th>\n",
              "      <td>5.000000</td>\n",
              "      <td>1.950000</td>\n",
              "      <td>15321.000000</td>\n",
              "    </tr>\n",
              "    <tr>\n",
              "      <th>75%</th>\n",
              "      <td>12.000000</td>\n",
              "      <td>3.750000</td>\n",
              "      <td>16812.000000</td>\n",
              "    </tr>\n",
              "    <tr>\n",
              "      <th>max</th>\n",
              "      <td>12960.000000</td>\n",
              "      <td>3610.500000</td>\n",
              "      <td>18287.000000</td>\n",
              "    </tr>\n",
              "  </tbody>\n",
              "</table>\n",
              "</div>"
            ],
            "text/plain": [
              "            quantity     unit_price        cust_id\n",
              "count  407658.000000  407658.000000  407658.000000\n",
              "mean       13.538792       3.185757   15368.597160\n",
              "std        92.085647      14.494358    1679.762214\n",
              "min         1.000000       0.001000   12346.000000\n",
              "25%         2.000000       1.250000   13997.000000\n",
              "50%         5.000000       1.950000   15321.000000\n",
              "75%        12.000000       3.750000   16812.000000\n",
              "max     12960.000000    3610.500000   18287.000000"
            ]
          },
          "metadata": {
            "tags": []
          },
          "execution_count": 23
        }
      ]
    },
    {
      "cell_type": "code",
      "metadata": {
        "id": "SS04zP2K4opr",
        "colab_type": "code",
        "outputId": "7376d65a-2f7a-4aff-f93f-4953e2fface3",
        "colab": {
          "base_uri": "https://localhost:8080/",
          "height": 279
        }
      },
      "source": [
        "q_new = sns.boxplot(new_retail.quantity)"
      ],
      "execution_count": 24,
      "outputs": [
        {
          "output_type": "display_data",
          "data": {
            "image/png": "[encoded data removed]",
            "text/plain": [
              "<Figure size 432x288 with 1 Axes>"
            ]
          },
          "metadata": {
            "tags": []
          }
        }
      ]
    },
    {
      "cell_type": "code",
      "metadata": {
        "id": "-9EuuHow46MR",
        "colab_type": "code",
        "outputId": "eb1ef00f-6151-412b-b9d4-24661db1065c",
        "colab": {
          "base_uri": "https://localhost:8080/",
          "height": 238
        }
      },
      "source": [
        "new_retail[(new_retail.desc.isnull()) & (new_retail.cust_id.isnull())]\n",
        "new_retail.info()\n"
      ],
      "execution_count": 25,
      "outputs": [
        {
          "output_type": "stream",
          "text": [
            "<class 'pandas.core.frame.DataFrame'>\n",
            "Index: 407658 entries, 0 to 525460\n",
            "Data columns (total 8 columns):\n",
            "invoice       407658 non-null object\n",
            "stock_code    407658 non-null object\n",
            "desc          407658 non-null object\n",
            "quantity      407658 non-null int64\n",
            "date          407658 non-null object\n",
            "unit_price    407658 non-null float64\n",
            "cust_id       407658 non-null float64\n",
            "country       407658 non-null object\n",
            "dtypes: float64(2), int64(1), object(5)\n",
            "memory usage: 28.0+ MB\n"
          ],
          "name": "stdout"
        }
      ]
    },
    {
      "cell_type": "code",
      "metadata": {
        "id": "WMG5rAHV5AAa",
        "colab_type": "code",
        "outputId": "9f51b1c2-f2e4-421d-ffd3-6886fec5a4ab",
        "colab": {
          "base_uri": "https://localhost:8080/",
          "height": 204
        }
      },
      "source": [
        "retail = new_retail\n",
        "retail.head()"
      ],
      "execution_count": 26,
      "outputs": [
        {
          "output_type": "execute_result",
          "data": {
            "text/html": [
              "<div>\n",
              "<style scoped>\n",
              "    .dataframe tbody tr th:only-of-type {\n",
              "        vertical-align: middle;\n",
              "    }\n",
              "\n",
              "    .dataframe tbody tr th {\n",
              "        vertical-align: top;\n",
              "    }\n",
              "\n",
              "    .dataframe thead th {\n",
              "        text-align: right;\n",
              "    }\n",
              "</style>\n",
              "<table border=\"1\" class=\"dataframe\">\n",
              "  <thead>\n",
              "    <tr style=\"text-align: right;\">\n",
              "      <th></th>\n",
              "      <th>invoice</th>\n",
              "      <th>stock_code</th>\n",
              "      <th>desc</th>\n",
              "      <th>quantity</th>\n",
              "      <th>date</th>\n",
              "      <th>unit_price</th>\n",
              "      <th>cust_id</th>\n",
              "      <th>country</th>\n",
              "    </tr>\n",
              "  </thead>\n",
              "  <tbody>\n",
              "    <tr>\n",
              "      <th>0</th>\n",
              "      <td>489434</td>\n",
              "      <td>85048</td>\n",
              "      <td>15CM CHRISTMAS GLASS BALL 20 LIGHTS</td>\n",
              "      <td>12</td>\n",
              "      <td>01/12/2009 07:45</td>\n",
              "      <td>6.95</td>\n",
              "      <td>13085.0</td>\n",
              "      <td>United Kingdom</td>\n",
              "    </tr>\n",
              "    <tr>\n",
              "      <th>1</th>\n",
              "      <td>489434</td>\n",
              "      <td>79323P</td>\n",
              "      <td>PINK CHERRY LIGHTS</td>\n",
              "      <td>12</td>\n",
              "      <td>01/12/2009 07:45</td>\n",
              "      <td>6.75</td>\n",
              "      <td>13085.0</td>\n",
              "      <td>United Kingdom</td>\n",
              "    </tr>\n",
              "    <tr>\n",
              "      <th>2</th>\n",
              "      <td>489434</td>\n",
              "      <td>79323W</td>\n",
              "      <td>WHITE CHERRY LIGHTS</td>\n",
              "      <td>12</td>\n",
              "      <td>01/12/2009 07:45</td>\n",
              "      <td>6.75</td>\n",
              "      <td>13085.0</td>\n",
              "      <td>United Kingdom</td>\n",
              "    </tr>\n",
              "    <tr>\n",
              "      <th>3</th>\n",
              "      <td>489434</td>\n",
              "      <td>22041</td>\n",
              "      <td>RECORD FRAME 7\" SINGLE SIZE</td>\n",
              "      <td>48</td>\n",
              "      <td>01/12/2009 07:45</td>\n",
              "      <td>2.10</td>\n",
              "      <td>13085.0</td>\n",
              "      <td>United Kingdom</td>\n",
              "    </tr>\n",
              "    <tr>\n",
              "      <th>4</th>\n",
              "      <td>489434</td>\n",
              "      <td>21232</td>\n",
              "      <td>STRAWBERRY CERAMIC TRINKET BOX</td>\n",
              "      <td>24</td>\n",
              "      <td>01/12/2009 07:45</td>\n",
              "      <td>1.25</td>\n",
              "      <td>13085.0</td>\n",
              "      <td>United Kingdom</td>\n",
              "    </tr>\n",
              "  </tbody>\n",
              "</table>\n",
              "</div>"
            ],
            "text/plain": [
              "  invoice stock_code  ...  cust_id         country\n",
              "0  489434      85048  ...  13085.0  United Kingdom\n",
              "1  489434     79323P  ...  13085.0  United Kingdom\n",
              "2  489434     79323W  ...  13085.0  United Kingdom\n",
              "3  489434      22041  ...  13085.0  United Kingdom\n",
              "4  489434      21232  ...  13085.0  United Kingdom\n",
              "\n",
              "[5 rows x 8 columns]"
            ]
          },
          "metadata": {
            "tags": []
          },
          "execution_count": 26
        }
      ]
    },
    {
      "cell_type": "code",
      "metadata": {
        "id": "GY82ILfK8ndm",
        "colab_type": "code",
        "outputId": "5f0e83a4-7947-4a1b-fdff-a9664cb6f073",
        "colab": {
          "base_uri": "https://localhost:8080/",
          "height": 204
        }
      },
      "source": [
        "retail.desc = retail.desc.str.lower()\n",
        "retail.head()"
      ],
      "execution_count": 27,
      "outputs": [
        {
          "output_type": "execute_result",
          "data": {
            "text/html": [
              "<div>\n",
              "<style scoped>\n",
              "    .dataframe tbody tr th:only-of-type {\n",
              "        vertical-align: middle;\n",
              "    }\n",
              "\n",
              "    .dataframe tbody tr th {\n",
              "        vertical-align: top;\n",
              "    }\n",
              "\n",
              "    .dataframe thead th {\n",
              "        text-align: right;\n",
              "    }\n",
              "</style>\n",
              "<table border=\"1\" class=\"dataframe\">\n",
              "  <thead>\n",
              "    <tr style=\"text-align: right;\">\n",
              "      <th></th>\n",
              "      <th>invoice</th>\n",
              "      <th>stock_code</th>\n",
              "      <th>desc</th>\n",
              "      <th>quantity</th>\n",
              "      <th>date</th>\n",
              "      <th>unit_price</th>\n",
              "      <th>cust_id</th>\n",
              "      <th>country</th>\n",
              "    </tr>\n",
              "  </thead>\n",
              "  <tbody>\n",
              "    <tr>\n",
              "      <th>0</th>\n",
              "      <td>489434</td>\n",
              "      <td>85048</td>\n",
              "      <td>15cm christmas glass ball 20 lights</td>\n",
              "      <td>12</td>\n",
              "      <td>01/12/2009 07:45</td>\n",
              "      <td>6.95</td>\n",
              "      <td>13085.0</td>\n",
              "      <td>United Kingdom</td>\n",
              "    </tr>\n",
              "    <tr>\n",
              "      <th>1</th>\n",
              "      <td>489434</td>\n",
              "      <td>79323P</td>\n",
              "      <td>pink cherry lights</td>\n",
              "      <td>12</td>\n",
              "      <td>01/12/2009 07:45</td>\n",
              "      <td>6.75</td>\n",
              "      <td>13085.0</td>\n",
              "      <td>United Kingdom</td>\n",
              "    </tr>\n",
              "    <tr>\n",
              "      <th>2</th>\n",
              "      <td>489434</td>\n",
              "      <td>79323W</td>\n",
              "      <td>white cherry lights</td>\n",
              "      <td>12</td>\n",
              "      <td>01/12/2009 07:45</td>\n",
              "      <td>6.75</td>\n",
              "      <td>13085.0</td>\n",
              "      <td>United Kingdom</td>\n",
              "    </tr>\n",
              "    <tr>\n",
              "      <th>3</th>\n",
              "      <td>489434</td>\n",
              "      <td>22041</td>\n",
              "      <td>record frame 7\" single size</td>\n",
              "      <td>48</td>\n",
              "      <td>01/12/2009 07:45</td>\n",
              "      <td>2.10</td>\n",
              "      <td>13085.0</td>\n",
              "      <td>United Kingdom</td>\n",
              "    </tr>\n",
              "    <tr>\n",
              "      <th>4</th>\n",
              "      <td>489434</td>\n",
              "      <td>21232</td>\n",
              "      <td>strawberry ceramic trinket box</td>\n",
              "      <td>24</td>\n",
              "      <td>01/12/2009 07:45</td>\n",
              "      <td>1.25</td>\n",
              "      <td>13085.0</td>\n",
              "      <td>United Kingdom</td>\n",
              "    </tr>\n",
              "  </tbody>\n",
              "</table>\n",
              "</div>"
            ],
            "text/plain": [
              "  invoice stock_code  ...  cust_id         country\n",
              "0  489434      85048  ...  13085.0  United Kingdom\n",
              "1  489434     79323P  ...  13085.0  United Kingdom\n",
              "2  489434     79323W  ...  13085.0  United Kingdom\n",
              "3  489434      22041  ...  13085.0  United Kingdom\n",
              "4  489434      21232  ...  13085.0  United Kingdom\n",
              "\n",
              "[5 rows x 8 columns]"
            ]
          },
          "metadata": {
            "tags": []
          },
          "execution_count": 27
        }
      ]
    },
    {
      "cell_type": "code",
      "metadata": {
        "id": "pULoTQQv8sbx",
        "colab_type": "code",
        "outputId": "39edca59-e8ed-4f4e-d852-10a282936d0b",
        "colab": {
          "base_uri": "https://localhost:8080/",
          "height": 204
        }
      },
      "source": [
        "\n",
        "retail['date'] = pd.to_datetime(retail.date, format = '%d/%m/%Y %H:%M')\n",
        "retail.head()\n"
      ],
      "execution_count": 29,
      "outputs": [
        {
          "output_type": "execute_result",
          "data": {
            "text/html": [
              "<div>\n",
              "<style scoped>\n",
              "    .dataframe tbody tr th:only-of-type {\n",
              "        vertical-align: middle;\n",
              "    }\n",
              "\n",
              "    .dataframe tbody tr th {\n",
              "        vertical-align: top;\n",
              "    }\n",
              "\n",
              "    .dataframe thead th {\n",
              "        text-align: right;\n",
              "    }\n",
              "</style>\n",
              "<table border=\"1\" class=\"dataframe\">\n",
              "  <thead>\n",
              "    <tr style=\"text-align: right;\">\n",
              "      <th></th>\n",
              "      <th>invoice</th>\n",
              "      <th>stock_code</th>\n",
              "      <th>desc</th>\n",
              "      <th>quantity</th>\n",
              "      <th>date</th>\n",
              "      <th>unit_price</th>\n",
              "      <th>cust_id</th>\n",
              "      <th>country</th>\n",
              "    </tr>\n",
              "  </thead>\n",
              "  <tbody>\n",
              "    <tr>\n",
              "      <th>0</th>\n",
              "      <td>489434</td>\n",
              "      <td>85048</td>\n",
              "      <td>15cm christmas glass ball 20 lights</td>\n",
              "      <td>12</td>\n",
              "      <td>2009-12-01 07:45:00</td>\n",
              "      <td>6.95</td>\n",
              "      <td>13085.0</td>\n",
              "      <td>United Kingdom</td>\n",
              "    </tr>\n",
              "    <tr>\n",
              "      <th>1</th>\n",
              "      <td>489434</td>\n",
              "      <td>79323P</td>\n",
              "      <td>pink cherry lights</td>\n",
              "      <td>12</td>\n",
              "      <td>2009-12-01 07:45:00</td>\n",
              "      <td>6.75</td>\n",
              "      <td>13085.0</td>\n",
              "      <td>United Kingdom</td>\n",
              "    </tr>\n",
              "    <tr>\n",
              "      <th>2</th>\n",
              "      <td>489434</td>\n",
              "      <td>79323W</td>\n",
              "      <td>white cherry lights</td>\n",
              "      <td>12</td>\n",
              "      <td>2009-12-01 07:45:00</td>\n",
              "      <td>6.75</td>\n",
              "      <td>13085.0</td>\n",
              "      <td>United Kingdom</td>\n",
              "    </tr>\n",
              "    <tr>\n",
              "      <th>3</th>\n",
              "      <td>489434</td>\n",
              "      <td>22041</td>\n",
              "      <td>record frame 7\" single size</td>\n",
              "      <td>48</td>\n",
              "      <td>2009-12-01 07:45:00</td>\n",
              "      <td>2.10</td>\n",
              "      <td>13085.0</td>\n",
              "      <td>United Kingdom</td>\n",
              "    </tr>\n",
              "    <tr>\n",
              "      <th>4</th>\n",
              "      <td>489434</td>\n",
              "      <td>21232</td>\n",
              "      <td>strawberry ceramic trinket box</td>\n",
              "      <td>24</td>\n",
              "      <td>2009-12-01 07:45:00</td>\n",
              "      <td>1.25</td>\n",
              "      <td>13085.0</td>\n",
              "      <td>United Kingdom</td>\n",
              "    </tr>\n",
              "  </tbody>\n",
              "</table>\n",
              "</div>"
            ],
            "text/plain": [
              "  invoice stock_code  ...  cust_id         country\n",
              "0  489434      85048  ...  13085.0  United Kingdom\n",
              "1  489434     79323P  ...  13085.0  United Kingdom\n",
              "2  489434     79323W  ...  13085.0  United Kingdom\n",
              "3  489434      22041  ...  13085.0  United Kingdom\n",
              "4  489434      21232  ...  13085.0  United Kingdom\n",
              "\n",
              "[5 rows x 8 columns]"
            ]
          },
          "metadata": {
            "tags": []
          },
          "execution_count": 29
        }
      ]
    },
    {
      "cell_type": "code",
      "metadata": {
        "id": "w-aHI__H9Mbh",
        "colab_type": "code",
        "outputId": "8650948d-68cc-4366-d4ac-39aaed5f4f9d",
        "colab": {
          "base_uri": "https://localhost:8080/",
          "height": 204
        }
      },
      "source": [
        "retail.insert(loc = 4, column = 'year_month', value = retail.date.map(lambda x: 100 * x.year + x.month))\n",
        "retail.insert(loc = 5, column = 'year', value = retail.date.dt.year)\n",
        "retail.insert(loc = 6, column = 'month', value = retail.date.dt.month)\n",
        "retail.insert(loc = 7, column = 'day', value = retail.date.dt.day)\n",
        "retail.insert(loc = 8, column ='hour', value = retail.date.dt.hour)\n",
        "retail.insert(loc = 9, column='day_of_week', value=(retail.date.dt.dayofweek)+1)\n",
        "retail.head()"
      ],
      "execution_count": 30,
      "outputs": [
        {
          "output_type": "execute_result",
          "data": {
            "text/html": [
              "<div>\n",
              "<style scoped>\n",
              "    .dataframe tbody tr th:only-of-type {\n",
              "        vertical-align: middle;\n",
              "    }\n",
              "\n",
              "    .dataframe tbody tr th {\n",
              "        vertical-align: top;\n",
              "    }\n",
              "\n",
              "    .dataframe thead th {\n",
              "        text-align: right;\n",
              "    }\n",
              "</style>\n",
              "<table border=\"1\" class=\"dataframe\">\n",
              "  <thead>\n",
              "    <tr style=\"text-align: right;\">\n",
              "      <th></th>\n",
              "      <th>invoice</th>\n",
              "      <th>stock_code</th>\n",
              "      <th>desc</th>\n",
              "      <th>quantity</th>\n",
              "      <th>year_month</th>\n",
              "      <th>year</th>\n",
              "      <th>month</th>\n",
              "      <th>day</th>\n",
              "      <th>hour</th>\n",
              "      <th>day_of_week</th>\n",
              "      <th>date</th>\n",
              "      <th>unit_price</th>\n",
              "      <th>cust_id</th>\n",
              "      <th>country</th>\n",
              "    </tr>\n",
              "  </thead>\n",
              "  <tbody>\n",
              "    <tr>\n",
              "      <th>0</th>\n",
              "      <td>489434</td>\n",
              "      <td>85048</td>\n",
              "      <td>15cm christmas glass ball 20 lights</td>\n",
              "      <td>12</td>\n",
              "      <td>200912</td>\n",
              "      <td>2009</td>\n",
              "      <td>12</td>\n",
              "      <td>1</td>\n",
              "      <td>7</td>\n",
              "      <td>2</td>\n",
              "      <td>2009-12-01 07:45:00</td>\n",
              "      <td>6.95</td>\n",
              "      <td>13085.0</td>\n",
              "      <td>United Kingdom</td>\n",
              "    </tr>\n",
              "    <tr>\n",
              "      <th>1</th>\n",
              "      <td>489434</td>\n",
              "      <td>79323P</td>\n",
              "      <td>pink cherry lights</td>\n",
              "      <td>12</td>\n",
              "      <td>200912</td>\n",
              "      <td>2009</td>\n",
              "      <td>12</td>\n",
              "      <td>1</td>\n",
              "      <td>7</td>\n",
              "      <td>2</td>\n",
              "      <td>2009-12-01 07:45:00</td>\n",
              "      <td>6.75</td>\n",
              "      <td>13085.0</td>\n",
              "      <td>United Kingdom</td>\n",
              "    </tr>\n",
              "    <tr>\n",
              "      <th>2</th>\n",
              "      <td>489434</td>\n",
              "      <td>79323W</td>\n",
              "      <td>white cherry lights</td>\n",
              "      <td>12</td>\n",
              "      <td>200912</td>\n",
              "      <td>2009</td>\n",
              "      <td>12</td>\n",
              "      <td>1</td>\n",
              "      <td>7</td>\n",
              "      <td>2</td>\n",
              "      <td>2009-12-01 07:45:00</td>\n",
              "      <td>6.75</td>\n",
              "      <td>13085.0</td>\n",
              "      <td>United Kingdom</td>\n",
              "    </tr>\n",
              "    <tr>\n",
              "      <th>3</th>\n",
              "      <td>489434</td>\n",
              "      <td>22041</td>\n",
              "      <td>record frame 7\" single size</td>\n",
              "      <td>48</td>\n",
              "      <td>200912</td>\n",
              "      <td>2009</td>\n",
              "      <td>12</td>\n",
              "      <td>1</td>\n",
              "      <td>7</td>\n",
              "      <td>2</td>\n",
              "      <td>2009-12-01 07:45:00</td>\n",
              "      <td>2.10</td>\n",
              "      <td>13085.0</td>\n",
              "      <td>United Kingdom</td>\n",
              "    </tr>\n",
              "    <tr>\n",
              "      <th>4</th>\n",
              "      <td>489434</td>\n",
              "      <td>21232</td>\n",
              "      <td>strawberry ceramic trinket box</td>\n",
              "      <td>24</td>\n",
              "      <td>200912</td>\n",
              "      <td>2009</td>\n",
              "      <td>12</td>\n",
              "      <td>1</td>\n",
              "      <td>7</td>\n",
              "      <td>2</td>\n",
              "      <td>2009-12-01 07:45:00</td>\n",
              "      <td>1.25</td>\n",
              "      <td>13085.0</td>\n",
              "      <td>United Kingdom</td>\n",
              "    </tr>\n",
              "  </tbody>\n",
              "</table>\n",
              "</div>"
            ],
            "text/plain": [
              "  invoice stock_code  ...  cust_id         country\n",
              "0  489434      85048  ...  13085.0  United Kingdom\n",
              "1  489434     79323P  ...  13085.0  United Kingdom\n",
              "2  489434     79323W  ...  13085.0  United Kingdom\n",
              "3  489434      22041  ...  13085.0  United Kingdom\n",
              "4  489434      21232  ...  13085.0  United Kingdom\n",
              "\n",
              "[5 rows x 14 columns]"
            ]
          },
          "metadata": {
            "tags": []
          },
          "execution_count": 30
        }
      ]
    },
    {
      "cell_type": "code",
      "metadata": {
        "id": "9A2azKOu9Ryp",
        "colab_type": "code",
        "outputId": "b9760829-58da-4283-a3bd-449775b6118d",
        "colab": {
          "base_uri": "https://localhost:8080/",
          "height": 411
        }
      },
      "source": [
        "retail.insert(loc = 11, column = 'spent', value = (retail['quantity'] * retail['unit_price']))\n",
        "retail.head()"
      ],
      "execution_count": 31,
      "outputs": [
        {
          "output_type": "execute_result",
          "data": {
            "text/html": [
              "<div>\n",
              "<style scoped>\n",
              "    .dataframe tbody tr th:only-of-type {\n",
              "        vertical-align: middle;\n",
              "    }\n",
              "\n",
              "    .dataframe tbody tr th {\n",
              "        vertical-align: top;\n",
              "    }\n",
              "\n",
              "    .dataframe thead th {\n",
              "        text-align: right;\n",
              "    }\n",
              "</style>\n",
              "<table border=\"1\" class=\"dataframe\">\n",
              "  <thead>\n",
              "    <tr style=\"text-align: right;\">\n",
              "      <th></th>\n",
              "      <th>invoice</th>\n",
              "      <th>stock_code</th>\n",
              "      <th>desc</th>\n",
              "      <th>quantity</th>\n",
              "      <th>year_month</th>\n",
              "      <th>year</th>\n",
              "      <th>month</th>\n",
              "      <th>day</th>\n",
              "      <th>hour</th>\n",
              "      <th>day_of_week</th>\n",
              "      <th>date</th>\n",
              "      <th>spent</th>\n",
              "      <th>unit_price</th>\n",
              "      <th>cust_id</th>\n",
              "      <th>country</th>\n",
              "    </tr>\n",
              "  </thead>\n",
              "  <tbody>\n",
              "    <tr>\n",
              "      <th>0</th>\n",
              "      <td>489434</td>\n",
              "      <td>85048</td>\n",
              "      <td>15cm christmas glass ball 20 lights</td>\n",
              "      <td>12</td>\n",
              "      <td>200912</td>\n",
              "      <td>2009</td>\n",
              "      <td>12</td>\n",
              "      <td>1</td>\n",
              "      <td>7</td>\n",
              "      <td>2</td>\n",
              "      <td>2009-12-01 07:45:00</td>\n",
              "      <td>83.4</td>\n",
              "      <td>6.95</td>\n",
              "      <td>13085.0</td>\n",
              "      <td>United Kingdom</td>\n",
              "    </tr>\n",
              "    <tr>\n",
              "      <th>1</th>\n",
              "      <td>489434</td>\n",
              "      <td>79323P</td>\n",
              "      <td>pink cherry lights</td>\n",
              "      <td>12</td>\n",
              "      <td>200912</td>\n",
              "      <td>2009</td>\n",
              "      <td>12</td>\n",
              "      <td>1</td>\n",
              "      <td>7</td>\n",
              "      <td>2</td>\n",
              "      <td>2009-12-01 07:45:00</td>\n",
              "      <td>81.0</td>\n",
              "      <td>6.75</td>\n",
              "      <td>13085.0</td>\n",
              "      <td>United Kingdom</td>\n",
              "    </tr>\n",
              "    <tr>\n",
              "      <th>2</th>\n",
              "      <td>489434</td>\n",
              "      <td>79323W</td>\n",
              "      <td>white cherry lights</td>\n",
              "      <td>12</td>\n",
              "      <td>200912</td>\n",
              "      <td>2009</td>\n",
              "      <td>12</td>\n",
              "      <td>1</td>\n",
              "      <td>7</td>\n",
              "      <td>2</td>\n",
              "      <td>2009-12-01 07:45:00</td>\n",
              "      <td>81.0</td>\n",
              "      <td>6.75</td>\n",
              "      <td>13085.0</td>\n",
              "      <td>United Kingdom</td>\n",
              "    </tr>\n",
              "    <tr>\n",
              "      <th>3</th>\n",
              "      <td>489434</td>\n",
              "      <td>22041</td>\n",
              "      <td>record frame 7\" single size</td>\n",
              "      <td>48</td>\n",
              "      <td>200912</td>\n",
              "      <td>2009</td>\n",
              "      <td>12</td>\n",
              "      <td>1</td>\n",
              "      <td>7</td>\n",
              "      <td>2</td>\n",
              "      <td>2009-12-01 07:45:00</td>\n",
              "      <td>100.8</td>\n",
              "      <td>2.10</td>\n",
              "      <td>13085.0</td>\n",
              "      <td>United Kingdom</td>\n",
              "    </tr>\n",
              "    <tr>\n",
              "      <th>4</th>\n",
              "      <td>489434</td>\n",
              "      <td>21232</td>\n",
              "      <td>strawberry ceramic trinket box</td>\n",
              "      <td>24</td>\n",
              "      <td>200912</td>\n",
              "      <td>2009</td>\n",
              "      <td>12</td>\n",
              "      <td>1</td>\n",
              "      <td>7</td>\n",
              "      <td>2</td>\n",
              "      <td>2009-12-01 07:45:00</td>\n",
              "      <td>30.0</td>\n",
              "      <td>1.25</td>\n",
              "      <td>13085.0</td>\n",
              "      <td>United Kingdom</td>\n",
              "    </tr>\n",
              "  </tbody>\n",
              "</table>\n",
              "</div>"
            ],
            "text/plain": [
              "  invoice stock_code  ...  cust_id         country\n",
              "0  489434      85048  ...  13085.0  United Kingdom\n",
              "1  489434     79323P  ...  13085.0  United Kingdom\n",
              "2  489434     79323W  ...  13085.0  United Kingdom\n",
              "3  489434      22041  ...  13085.0  United Kingdom\n",
              "4  489434      21232  ...  13085.0  United Kingdom\n",
              "\n",
              "[5 rows x 15 columns]"
            ]
          },
          "metadata": {
            "tags": []
          },
          "execution_count": 31
        }
      ]
    },
    {
      "cell_type": "code",
      "metadata": {
        "id": "lVZp548o96jk",
        "colab_type": "code",
        "outputId": "08552044-72e3-43a0-f78e-2b672fa6854f",
        "colab": {
          "base_uri": "https://localhost:8080/",
          "height": 411
        }
      },
      "source": [
        "\n",
        "retail = retail[['invoice', 'country', 'cust_id', 'stock_code', 'desc','quantity', 'unit_price', 'date', 'spent', \n",
        "                 'year_month', 'year', 'month', 'day', 'day_of_week', 'hour']]\n",
        "retail.head()"
      ],
      "execution_count": 32,
      "outputs": [
        {
          "output_type": "execute_result",
          "data": {
            "text/html": [
              "<div>\n",
              "<style scoped>\n",
              "    .dataframe tbody tr th:only-of-type {\n",
              "        vertical-align: middle;\n",
              "    }\n",
              "\n",
              "    .dataframe tbody tr th {\n",
              "        vertical-align: top;\n",
              "    }\n",
              "\n",
              "    .dataframe thead th {\n",
              "        text-align: right;\n",
              "    }\n",
              "</style>\n",
              "<table border=\"1\" class=\"dataframe\">\n",
              "  <thead>\n",
              "    <tr style=\"text-align: right;\">\n",
              "      <th></th>\n",
              "      <th>invoice</th>\n",
              "      <th>country</th>\n",
              "      <th>cust_id</th>\n",
              "      <th>stock_code</th>\n",
              "      <th>desc</th>\n",
              "      <th>quantity</th>\n",
              "      <th>unit_price</th>\n",
              "      <th>date</th>\n",
              "      <th>spent</th>\n",
              "      <th>year_month</th>\n",
              "      <th>year</th>\n",
              "      <th>month</th>\n",
              "      <th>day</th>\n",
              "      <th>day_of_week</th>\n",
              "      <th>hour</th>\n",
              "    </tr>\n",
              "  </thead>\n",
              "  <tbody>\n",
              "    <tr>\n",
              "      <th>0</th>\n",
              "      <td>489434</td>\n",
              "      <td>United Kingdom</td>\n",
              "      <td>13085.0</td>\n",
              "      <td>85048</td>\n",
              "      <td>15cm christmas glass ball 20 lights</td>\n",
              "      <td>12</td>\n",
              "      <td>6.95</td>\n",
              "      <td>2009-12-01 07:45:00</td>\n",
              "      <td>83.4</td>\n",
              "      <td>200912</td>\n",
              "      <td>2009</td>\n",
              "      <td>12</td>\n",
              "      <td>1</td>\n",
              "      <td>2</td>\n",
              "      <td>7</td>\n",
              "    </tr>\n",
              "    <tr>\n",
              "      <th>1</th>\n",
              "      <td>489434</td>\n",
              "      <td>United Kingdom</td>\n",
              "      <td>13085.0</td>\n",
              "      <td>79323P</td>\n",
              "      <td>pink cherry lights</td>\n",
              "      <td>12</td>\n",
              "      <td>6.75</td>\n",
              "      <td>2009-12-01 07:45:00</td>\n",
              "      <td>81.0</td>\n",
              "      <td>200912</td>\n",
              "      <td>2009</td>\n",
              "      <td>12</td>\n",
              "      <td>1</td>\n",
              "      <td>2</td>\n",
              "      <td>7</td>\n",
              "    </tr>\n",
              "    <tr>\n",
              "      <th>2</th>\n",
              "      <td>489434</td>\n",
              "      <td>United Kingdom</td>\n",
              "      <td>13085.0</td>\n",
              "      <td>79323W</td>\n",
              "      <td>white cherry lights</td>\n",
              "      <td>12</td>\n",
              "      <td>6.75</td>\n",
              "      <td>2009-12-01 07:45:00</td>\n",
              "      <td>81.0</td>\n",
              "      <td>200912</td>\n",
              "      <td>2009</td>\n",
              "      <td>12</td>\n",
              "      <td>1</td>\n",
              "      <td>2</td>\n",
              "      <td>7</td>\n",
              "    </tr>\n",
              "    <tr>\n",
              "      <th>3</th>\n",
              "      <td>489434</td>\n",
              "      <td>United Kingdom</td>\n",
              "      <td>13085.0</td>\n",
              "      <td>22041</td>\n",
              "      <td>record frame 7\" single size</td>\n",
              "      <td>48</td>\n",
              "      <td>2.10</td>\n",
              "      <td>2009-12-01 07:45:00</td>\n",
              "      <td>100.8</td>\n",
              "      <td>200912</td>\n",
              "      <td>2009</td>\n",
              "      <td>12</td>\n",
              "      <td>1</td>\n",
              "      <td>2</td>\n",
              "      <td>7</td>\n",
              "    </tr>\n",
              "    <tr>\n",
              "      <th>4</th>\n",
              "      <td>489434</td>\n",
              "      <td>United Kingdom</td>\n",
              "      <td>13085.0</td>\n",
              "      <td>21232</td>\n",
              "      <td>strawberry ceramic trinket box</td>\n",
              "      <td>24</td>\n",
              "      <td>1.25</td>\n",
              "      <td>2009-12-01 07:45:00</td>\n",
              "      <td>30.0</td>\n",
              "      <td>200912</td>\n",
              "      <td>2009</td>\n",
              "      <td>12</td>\n",
              "      <td>1</td>\n",
              "      <td>2</td>\n",
              "      <td>7</td>\n",
              "    </tr>\n",
              "  </tbody>\n",
              "</table>\n",
              "</div>"
            ],
            "text/plain": [
              "  invoice         country  cust_id stock_code  ... month  day  day_of_week hour\n",
              "0  489434  United Kingdom  13085.0      85048  ...    12    1            2    7\n",
              "1  489434  United Kingdom  13085.0     79323P  ...    12    1            2    7\n",
              "2  489434  United Kingdom  13085.0     79323W  ...    12    1            2    7\n",
              "3  489434  United Kingdom  13085.0      22041  ...    12    1            2    7\n",
              "4  489434  United Kingdom  13085.0      21232  ...    12    1            2    7\n",
              "\n",
              "[5 rows x 15 columns]"
            ]
          },
          "metadata": {
            "tags": []
          },
          "execution_count": 32
        }
      ]
    },
    {
      "cell_type": "markdown",
      "metadata": {
        "id": "_t8JmxIH1JyF",
        "colab_type": "text"
      },
      "source": [
        "**Exercise 8.03**"
      ]
    },
    {
      "cell_type": "code",
      "metadata": {
        "id": "imXuTwobBCaV",
        "colab_type": "code",
        "outputId": "7611efca-204b-4afe-b3aa-8b8c69c8b6f3",
        "colab": {
          "base_uri": "https://localhost:8080/",
          "height": 359
        }
      },
      "source": [
        "#orders made by each customer\n",
        "\n",
        "ord_cust = retail.groupby(by = ['cust_id', 'country'], as_index = False)['invoice'].count()\n",
        "ord_cust.head(10)"
      ],
      "execution_count": 33,
      "outputs": [
        {
          "output_type": "execute_result",
          "data": {
            "text/html": [
              "<div>\n",
              "<style scoped>\n",
              "    .dataframe tbody tr th:only-of-type {\n",
              "        vertical-align: middle;\n",
              "    }\n",
              "\n",
              "    .dataframe tbody tr th {\n",
              "        vertical-align: top;\n",
              "    }\n",
              "\n",
              "    .dataframe thead th {\n",
              "        text-align: right;\n",
              "    }\n",
              "</style>\n",
              "<table border=\"1\" class=\"dataframe\">\n",
              "  <thead>\n",
              "    <tr style=\"text-align: right;\">\n",
              "      <th></th>\n",
              "      <th>cust_id</th>\n",
              "      <th>country</th>\n",
              "      <th>invoice</th>\n",
              "    </tr>\n",
              "  </thead>\n",
              "  <tbody>\n",
              "    <tr>\n",
              "      <th>0</th>\n",
              "      <td>12346.0</td>\n",
              "      <td>United Kingdom</td>\n",
              "      <td>33</td>\n",
              "    </tr>\n",
              "    <tr>\n",
              "      <th>1</th>\n",
              "      <td>12347.0</td>\n",
              "      <td>Iceland</td>\n",
              "      <td>71</td>\n",
              "    </tr>\n",
              "    <tr>\n",
              "      <th>2</th>\n",
              "      <td>12348.0</td>\n",
              "      <td>Finland</td>\n",
              "      <td>20</td>\n",
              "    </tr>\n",
              "    <tr>\n",
              "      <th>3</th>\n",
              "      <td>12349.0</td>\n",
              "      <td>Italy</td>\n",
              "      <td>102</td>\n",
              "    </tr>\n",
              "    <tr>\n",
              "      <th>4</th>\n",
              "      <td>12351.0</td>\n",
              "      <td>Unspecified</td>\n",
              "      <td>21</td>\n",
              "    </tr>\n",
              "    <tr>\n",
              "      <th>5</th>\n",
              "      <td>12352.0</td>\n",
              "      <td>Norway</td>\n",
              "      <td>18</td>\n",
              "    </tr>\n",
              "    <tr>\n",
              "      <th>6</th>\n",
              "      <td>12353.0</td>\n",
              "      <td>Bahrain</td>\n",
              "      <td>20</td>\n",
              "    </tr>\n",
              "    <tr>\n",
              "      <th>7</th>\n",
              "      <td>12355.0</td>\n",
              "      <td>Bahrain</td>\n",
              "      <td>22</td>\n",
              "    </tr>\n",
              "    <tr>\n",
              "      <th>8</th>\n",
              "      <td>12356.0</td>\n",
              "      <td>Portugal</td>\n",
              "      <td>84</td>\n",
              "    </tr>\n",
              "    <tr>\n",
              "      <th>9</th>\n",
              "      <td>12357.0</td>\n",
              "      <td>Switzerland</td>\n",
              "      <td>165</td>\n",
              "    </tr>\n",
              "  </tbody>\n",
              "</table>\n",
              "</div>"
            ],
            "text/plain": [
              "   cust_id         country  invoice\n",
              "0  12346.0  United Kingdom       33\n",
              "1  12347.0         Iceland       71\n",
              "2  12348.0         Finland       20\n",
              "3  12349.0           Italy      102\n",
              "4  12351.0     Unspecified       21\n",
              "5  12352.0          Norway       18\n",
              "6  12353.0         Bahrain       20\n",
              "7  12355.0         Bahrain       22\n",
              "8  12356.0        Portugal       84\n",
              "9  12357.0     Switzerland      165"
            ]
          },
          "metadata": {
            "tags": []
          },
          "execution_count": 33
        }
      ]
    },
    {
      "cell_type": "code",
      "metadata": {
        "id": "-JZYNFAMBEHj",
        "colab_type": "code",
        "outputId": "096c69c2-7260-4c36-9035-65e74b7de7e7",
        "colab": {
          "base_uri": "https://localhost:8080/",
          "height": 424
        }
      },
      "source": [
        "plt.subplots(figsize = (15, 6))\n",
        "oc = plt.plot(ord_cust.cust_id, ord_cust.invoice)\n",
        "plt.xlabel('Customer ID')\n",
        "plt.ylabel('Number of Orders')\n",
        "plt.title('Number of Orders made by Customers')\n",
        "plt.show()\n"
      ],
      "execution_count": 34,
      "outputs": [
        {
          "output_type": "display_data",
          "data": {
            "image/png": "[encoded data removed]",
            "text/plain": [
              "<Figure size 1080x432 with 1 Axes>"
            ]
          },
          "metadata": {
            "tags": []
          }
        }
      ]
    },
    {
      "cell_type": "code",
      "metadata": {
        "id": "LPSI9QNmBUEu",
        "colab_type": "code",
        "outputId": "c81b6f05-09ca-4c23-c5e0-6c6a2d473d13",
        "colab": {
          "base_uri": "https://localhost:8080/",
          "height": 297
        }
      },
      "source": [
        "ord_cust.describe()"
      ],
      "execution_count": 35,
      "outputs": [
        {
          "output_type": "execute_result",
          "data": {
            "text/html": [
              "<div>\n",
              "<style scoped>\n",
              "    .dataframe tbody tr th:only-of-type {\n",
              "        vertical-align: middle;\n",
              "    }\n",
              "\n",
              "    .dataframe tbody tr th {\n",
              "        vertical-align: top;\n",
              "    }\n",
              "\n",
              "    .dataframe thead th {\n",
              "        text-align: right;\n",
              "    }\n",
              "</style>\n",
              "<table border=\"1\" class=\"dataframe\">\n",
              "  <thead>\n",
              "    <tr style=\"text-align: right;\">\n",
              "      <th></th>\n",
              "      <th>cust_id</th>\n",
              "      <th>invoice</th>\n",
              "    </tr>\n",
              "  </thead>\n",
              "  <tbody>\n",
              "    <tr>\n",
              "      <th>count</th>\n",
              "      <td>4315.000000</td>\n",
              "      <td>4315.000000</td>\n",
              "    </tr>\n",
              "    <tr>\n",
              "      <th>mean</th>\n",
              "      <td>15346.442642</td>\n",
              "      <td>94.474623</td>\n",
              "    </tr>\n",
              "    <tr>\n",
              "      <th>std</th>\n",
              "      <td>1702.986420</td>\n",
              "      <td>201.977000</td>\n",
              "    </tr>\n",
              "    <tr>\n",
              "      <th>min</th>\n",
              "      <td>12346.000000</td>\n",
              "      <td>1.000000</td>\n",
              "    </tr>\n",
              "    <tr>\n",
              "      <th>25%</th>\n",
              "      <td>13878.500000</td>\n",
              "      <td>18.000000</td>\n",
              "    </tr>\n",
              "    <tr>\n",
              "      <th>50%</th>\n",
              "      <td>15346.000000</td>\n",
              "      <td>44.000000</td>\n",
              "    </tr>\n",
              "    <tr>\n",
              "      <th>75%</th>\n",
              "      <td>16833.500000</td>\n",
              "      <td>102.000000</td>\n",
              "    </tr>\n",
              "    <tr>\n",
              "      <th>max</th>\n",
              "      <td>18287.000000</td>\n",
              "      <td>5570.000000</td>\n",
              "    </tr>\n",
              "  </tbody>\n",
              "</table>\n",
              "</div>"
            ],
            "text/plain": [
              "            cust_id      invoice\n",
              "count   4315.000000  4315.000000\n",
              "mean   15346.442642    94.474623\n",
              "std     1702.986420   201.977000\n",
              "min    12346.000000     1.000000\n",
              "25%    13878.500000    18.000000\n",
              "50%    15346.000000    44.000000\n",
              "75%    16833.500000   102.000000\n",
              "max    18287.000000  5570.000000"
            ]
          },
          "metadata": {
            "tags": []
          },
          "execution_count": 35
        }
      ]
    },
    {
      "cell_type": "code",
      "metadata": {
        "id": "ND0XMaV1BYsP",
        "colab_type": "code",
        "outputId": "3d7a8842-5c06-444a-8d93-312f34abcd67",
        "colab": {
          "base_uri": "https://localhost:8080/",
          "height": 204
        }
      },
      "source": [
        "# 5 customers who ordered the most number of times\n",
        "ord_cust.sort_values(by = 'invoice', ascending = False).head()"
      ],
      "execution_count": 36,
      "outputs": [
        {
          "output_type": "execute_result",
          "data": {
            "text/html": [
              "<div>\n",
              "<style scoped>\n",
              "    .dataframe tbody tr th:only-of-type {\n",
              "        vertical-align: middle;\n",
              "    }\n",
              "\n",
              "    .dataframe tbody tr th {\n",
              "        vertical-align: top;\n",
              "    }\n",
              "\n",
              "    .dataframe thead th {\n",
              "        text-align: right;\n",
              "    }\n",
              "</style>\n",
              "<table border=\"1\" class=\"dataframe\">\n",
              "  <thead>\n",
              "    <tr style=\"text-align: right;\">\n",
              "      <th></th>\n",
              "      <th>cust_id</th>\n",
              "      <th>country</th>\n",
              "      <th>invoice</th>\n",
              "    </tr>\n",
              "  </thead>\n",
              "  <tbody>\n",
              "    <tr>\n",
              "      <th>1844</th>\n",
              "      <td>14911.0</td>\n",
              "      <td>EIRE</td>\n",
              "      <td>5570</td>\n",
              "    </tr>\n",
              "    <tr>\n",
              "      <th>3992</th>\n",
              "      <td>17841.0</td>\n",
              "      <td>United Kingdom</td>\n",
              "      <td>5043</td>\n",
              "    </tr>\n",
              "    <tr>\n",
              "      <th>1610</th>\n",
              "      <td>14606.0</td>\n",
              "      <td>United Kingdom</td>\n",
              "      <td>3866</td>\n",
              "    </tr>\n",
              "    <tr>\n",
              "      <th>1273</th>\n",
              "      <td>14156.0</td>\n",
              "      <td>EIRE</td>\n",
              "      <td>2648</td>\n",
              "    </tr>\n",
              "    <tr>\n",
              "      <th>256</th>\n",
              "      <td>12748.0</td>\n",
              "      <td>United Kingdom</td>\n",
              "      <td>2633</td>\n",
              "    </tr>\n",
              "  </tbody>\n",
              "</table>\n",
              "</div>"
            ],
            "text/plain": [
              "      cust_id         country  invoice\n",
              "1844  14911.0            EIRE     5570\n",
              "3992  17841.0  United Kingdom     5043\n",
              "1610  14606.0  United Kingdom     3866\n",
              "1273  14156.0            EIRE     2648\n",
              "256   12748.0  United Kingdom     2633"
            ]
          },
          "metadata": {
            "tags": []
          },
          "execution_count": 36
        }
      ]
    },
    {
      "cell_type": "code",
      "metadata": {
        "id": "aRzSGmOTBfkH",
        "colab_type": "code",
        "outputId": "c843d9a0-45c9-4f9c-b798-82ca0fa0eefd",
        "colab": {
          "base_uri": "https://localhost:8080/",
          "height": 204
        }
      },
      "source": [
        "ord_cust.sort_values(by = 'invoice', ascending = False).tail()"
      ],
      "execution_count": 37,
      "outputs": [
        {
          "output_type": "execute_result",
          "data": {
            "text/html": [
              "<div>\n",
              "<style scoped>\n",
              "    .dataframe tbody tr th:only-of-type {\n",
              "        vertical-align: middle;\n",
              "    }\n",
              "\n",
              "    .dataframe tbody tr th {\n",
              "        vertical-align: top;\n",
              "    }\n",
              "\n",
              "    .dataframe thead th {\n",
              "        text-align: right;\n",
              "    }\n",
              "</style>\n",
              "<table border=\"1\" class=\"dataframe\">\n",
              "  <thead>\n",
              "    <tr style=\"text-align: right;\">\n",
              "      <th></th>\n",
              "      <th>cust_id</th>\n",
              "      <th>country</th>\n",
              "      <th>invoice</th>\n",
              "    </tr>\n",
              "  </thead>\n",
              "  <tbody>\n",
              "    <tr>\n",
              "      <th>1233</th>\n",
              "      <td>14095.0</td>\n",
              "      <td>United Kingdom</td>\n",
              "      <td>1</td>\n",
              "    </tr>\n",
              "    <tr>\n",
              "      <th>1239</th>\n",
              "      <td>14106.0</td>\n",
              "      <td>United Kingdom</td>\n",
              "      <td>1</td>\n",
              "    </tr>\n",
              "    <tr>\n",
              "      <th>2752</th>\n",
              "      <td>16165.0</td>\n",
              "      <td>United Kingdom</td>\n",
              "      <td>1</td>\n",
              "    </tr>\n",
              "    <tr>\n",
              "      <th>3655</th>\n",
              "      <td>17378.0</td>\n",
              "      <td>United Kingdom</td>\n",
              "      <td>1</td>\n",
              "    </tr>\n",
              "    <tr>\n",
              "      <th>1427</th>\n",
              "      <td>14366.0</td>\n",
              "      <td>United Kingdom</td>\n",
              "      <td>1</td>\n",
              "    </tr>\n",
              "  </tbody>\n",
              "</table>\n",
              "</div>"
            ],
            "text/plain": [
              "      cust_id         country  invoice\n",
              "1233  14095.0  United Kingdom        1\n",
              "1239  14106.0  United Kingdom        1\n",
              "2752  16165.0  United Kingdom        1\n",
              "3655  17378.0  United Kingdom        1\n",
              "1427  14366.0  United Kingdom        1"
            ]
          },
          "metadata": {
            "tags": []
          },
          "execution_count": 37
        }
      ]
    },
    {
      "cell_type": "code",
      "metadata": {
        "id": "x_z8qpAeBj9b",
        "colab_type": "code",
        "outputId": "b4d3e92f-e451-4820-e851-4907f615bda1",
        "colab": {
          "base_uri": "https://localhost:8080/",
          "height": 204
        }
      },
      "source": [
        "spent_cust = retail.groupby(by = ['cust_id', 'country', 'quantity', 'unit_price'], as_index = False)['spent'].sum()\n",
        "spent_cust.head()"
      ],
      "execution_count": 38,
      "outputs": [
        {
          "output_type": "execute_result",
          "data": {
            "text/html": [
              "<div>\n",
              "<style scoped>\n",
              "    .dataframe tbody tr th:only-of-type {\n",
              "        vertical-align: middle;\n",
              "    }\n",
              "\n",
              "    .dataframe tbody tr th {\n",
              "        vertical-align: top;\n",
              "    }\n",
              "\n",
              "    .dataframe thead th {\n",
              "        text-align: right;\n",
              "    }\n",
              "</style>\n",
              "<table border=\"1\" class=\"dataframe\">\n",
              "  <thead>\n",
              "    <tr style=\"text-align: right;\">\n",
              "      <th></th>\n",
              "      <th>cust_id</th>\n",
              "      <th>country</th>\n",
              "      <th>quantity</th>\n",
              "      <th>unit_price</th>\n",
              "      <th>spent</th>\n",
              "    </tr>\n",
              "  </thead>\n",
              "  <tbody>\n",
              "    <tr>\n",
              "      <th>0</th>\n",
              "      <td>12346.0</td>\n",
              "      <td>United Kingdom</td>\n",
              "      <td>1</td>\n",
              "      <td>1.00</td>\n",
              "      <td>1.00</td>\n",
              "    </tr>\n",
              "    <tr>\n",
              "      <th>1</th>\n",
              "      <td>12346.0</td>\n",
              "      <td>United Kingdom</td>\n",
              "      <td>1</td>\n",
              "      <td>3.25</td>\n",
              "      <td>3.25</td>\n",
              "    </tr>\n",
              "    <tr>\n",
              "      <th>2</th>\n",
              "      <td>12346.0</td>\n",
              "      <td>United Kingdom</td>\n",
              "      <td>1</td>\n",
              "      <td>5.95</td>\n",
              "      <td>23.80</td>\n",
              "    </tr>\n",
              "    <tr>\n",
              "      <th>3</th>\n",
              "      <td>12346.0</td>\n",
              "      <td>United Kingdom</td>\n",
              "      <td>1</td>\n",
              "      <td>7.49</td>\n",
              "      <td>142.31</td>\n",
              "    </tr>\n",
              "    <tr>\n",
              "      <th>4</th>\n",
              "      <td>12346.0</td>\n",
              "      <td>United Kingdom</td>\n",
              "      <td>5</td>\n",
              "      <td>4.50</td>\n",
              "      <td>157.50</td>\n",
              "    </tr>\n",
              "  </tbody>\n",
              "</table>\n",
              "</div>"
            ],
            "text/plain": [
              "   cust_id         country  quantity  unit_price   spent\n",
              "0  12346.0  United Kingdom         1        1.00    1.00\n",
              "1  12346.0  United Kingdom         1        3.25    3.25\n",
              "2  12346.0  United Kingdom         1        5.95   23.80\n",
              "3  12346.0  United Kingdom         1        7.49  142.31\n",
              "4  12346.0  United Kingdom         5        4.50  157.50"
            ]
          },
          "metadata": {
            "tags": []
          },
          "execution_count": 38
        }
      ]
    },
    {
      "cell_type": "code",
      "metadata": {
        "id": "-1uJXO5lBs-A",
        "colab_type": "code",
        "outputId": "ac5fdde9-af7e-4f9d-d870-9b16136a5f88",
        "colab": {
          "base_uri": "https://localhost:8080/",
          "height": 424
        }
      },
      "source": [
        "plt.subplots(figsize = (15, 6))\n",
        "sc = plt.plot(spent_cust.cust_id, spent_cust.spent)\n",
        "plt.xlabel('Customer ID')\n",
        "plt.ylabel('Total Amount Spent')\n",
        "plt.title('Amount Spent by Customers')\n",
        "plt.show()"
      ],
      "execution_count": 39,
      "outputs": [
        {
          "output_type": "display_data",
          "data": {
            "image/png": "[encoded data removed]",
            "text/plain": [
              "<Figure size 1080x432 with 1 Axes>"
            ]
          },
          "metadata": {
            "tags": []
          }
        }
      ]
    },
    {
      "cell_type": "code",
      "metadata": {
        "id": "f5zx4AZNBz6C",
        "colab_type": "code",
        "outputId": "02d2fb24-bc32-428f-e7f0-f277f5728334",
        "colab": {
          "base_uri": "https://localhost:8080/",
          "height": 204
        }
      },
      "source": [
        "spent_cust.sort_values(by = 'spent', ascending = False).head()"
      ],
      "execution_count": 40,
      "outputs": [
        {
          "output_type": "execute_result",
          "data": {
            "text/html": [
              "<div>\n",
              "<style scoped>\n",
              "    .dataframe tbody tr th:only-of-type {\n",
              "        vertical-align: middle;\n",
              "    }\n",
              "\n",
              "    .dataframe tbody tr th {\n",
              "        vertical-align: top;\n",
              "    }\n",
              "\n",
              "    .dataframe thead th {\n",
              "        text-align: right;\n",
              "    }\n",
              "</style>\n",
              "<table border=\"1\" class=\"dataframe\">\n",
              "  <thead>\n",
              "    <tr style=\"text-align: right;\">\n",
              "      <th></th>\n",
              "      <th>cust_id</th>\n",
              "      <th>country</th>\n",
              "      <th>quantity</th>\n",
              "      <th>unit_price</th>\n",
              "      <th>spent</th>\n",
              "    </tr>\n",
              "  </thead>\n",
              "  <tbody>\n",
              "    <tr>\n",
              "      <th>144871</th>\n",
              "      <td>18102.0</td>\n",
              "      <td>United Kingdom</td>\n",
              "      <td>300</td>\n",
              "      <td>4.58</td>\n",
              "      <td>43968.0</td>\n",
              "    </tr>\n",
              "    <tr>\n",
              "      <th>144915</th>\n",
              "      <td>18102.0</td>\n",
              "      <td>United Kingdom</td>\n",
              "      <td>600</td>\n",
              "      <td>3.00</td>\n",
              "      <td>18000.0</td>\n",
              "    </tr>\n",
              "    <tr>\n",
              "      <th>82744</th>\n",
              "      <td>15769.0</td>\n",
              "      <td>United Kingdom</td>\n",
              "      <td>200</td>\n",
              "      <td>1.65</td>\n",
              "      <td>17490.0</td>\n",
              "    </tr>\n",
              "    <tr>\n",
              "      <th>84312</th>\n",
              "      <td>15838.0</td>\n",
              "      <td>United Kingdom</td>\n",
              "      <td>9360</td>\n",
              "      <td>1.69</td>\n",
              "      <td>15818.4</td>\n",
              "    </tr>\n",
              "    <tr>\n",
              "      <th>144912</th>\n",
              "      <td>18102.0</td>\n",
              "      <td>United Kingdom</td>\n",
              "      <td>576</td>\n",
              "      <td>3.00</td>\n",
              "      <td>13824.0</td>\n",
              "    </tr>\n",
              "  </tbody>\n",
              "</table>\n",
              "</div>"
            ],
            "text/plain": [
              "        cust_id         country  quantity  unit_price    spent\n",
              "144871  18102.0  United Kingdom       300        4.58  43968.0\n",
              "144915  18102.0  United Kingdom       600        3.00  18000.0\n",
              "82744   15769.0  United Kingdom       200        1.65  17490.0\n",
              "84312   15838.0  United Kingdom      9360        1.69  15818.4\n",
              "144912  18102.0  United Kingdom       576        3.00  13824.0"
            ]
          },
          "metadata": {
            "tags": []
          },
          "execution_count": 40
        }
      ]
    },
    {
      "cell_type": "code",
      "metadata": {
        "id": "j6aQ9dWNB2P7",
        "colab_type": "code",
        "outputId": "3eb07949-dfa2-49e6-9beb-caaad29cb9bc",
        "colab": {
          "base_uri": "https://localhost:8080/",
          "height": 204
        }
      },
      "source": [
        "spent_cust.sort_values(by = 'spent', ascending = False).tail()"
      ],
      "execution_count": 41,
      "outputs": [
        {
          "output_type": "execute_result",
          "data": {
            "text/html": [
              "<div>\n",
              "<style scoped>\n",
              "    .dataframe tbody tr th:only-of-type {\n",
              "        vertical-align: middle;\n",
              "    }\n",
              "\n",
              "    .dataframe tbody tr th {\n",
              "        vertical-align: top;\n",
              "    }\n",
              "\n",
              "    .dataframe thead th {\n",
              "        text-align: right;\n",
              "    }\n",
              "</style>\n",
              "<table border=\"1\" class=\"dataframe\">\n",
              "  <thead>\n",
              "    <tr style=\"text-align: right;\">\n",
              "      <th></th>\n",
              "      <th>cust_id</th>\n",
              "      <th>country</th>\n",
              "      <th>quantity</th>\n",
              "      <th>unit_price</th>\n",
              "      <th>spent</th>\n",
              "    </tr>\n",
              "  </thead>\n",
              "  <tbody>\n",
              "    <tr>\n",
              "      <th>44358</th>\n",
              "      <td>14249.0</td>\n",
              "      <td>United Kingdom</td>\n",
              "      <td>1</td>\n",
              "      <td>0.001</td>\n",
              "      <td>0.001</td>\n",
              "    </tr>\n",
              "    <tr>\n",
              "      <th>27696</th>\n",
              "      <td>13583.0</td>\n",
              "      <td>United Kingdom</td>\n",
              "      <td>1</td>\n",
              "      <td>0.001</td>\n",
              "      <td>0.001</td>\n",
              "    </tr>\n",
              "    <tr>\n",
              "      <th>48967</th>\n",
              "      <td>14459.0</td>\n",
              "      <td>United Kingdom</td>\n",
              "      <td>1</td>\n",
              "      <td>0.001</td>\n",
              "      <td>0.001</td>\n",
              "    </tr>\n",
              "    <tr>\n",
              "      <th>124745</th>\n",
              "      <td>17350.0</td>\n",
              "      <td>United Kingdom</td>\n",
              "      <td>1</td>\n",
              "      <td>0.001</td>\n",
              "      <td>0.001</td>\n",
              "    </tr>\n",
              "    <tr>\n",
              "      <th>106656</th>\n",
              "      <td>16705.0</td>\n",
              "      <td>United Kingdom</td>\n",
              "      <td>1</td>\n",
              "      <td>0.001</td>\n",
              "      <td>0.001</td>\n",
              "    </tr>\n",
              "  </tbody>\n",
              "</table>\n",
              "</div>"
            ],
            "text/plain": [
              "        cust_id         country  quantity  unit_price  spent\n",
              "44358   14249.0  United Kingdom         1       0.001  0.001\n",
              "27696   13583.0  United Kingdom         1       0.001  0.001\n",
              "48967   14459.0  United Kingdom         1       0.001  0.001\n",
              "124745  17350.0  United Kingdom         1       0.001  0.001\n",
              "106656  16705.0  United Kingdom         1       0.001  0.001"
            ]
          },
          "metadata": {
            "tags": []
          },
          "execution_count": 41
        }
      ]
    },
    {
      "cell_type": "code",
      "metadata": {
        "id": "uFCfHTdgCRSc",
        "colab_type": "code",
        "outputId": "2f4e0a58-6cb9-46fd-e010-21d960d6f82e",
        "colab": {
          "base_uri": "https://localhost:8080/",
          "height": 255
        }
      },
      "source": [
        "ord_month = retail.groupby(['invoice'])['year_month'].unique().value_counts().sort_index()\n",
        "ord_month\n"
      ],
      "execution_count": 42,
      "outputs": [
        {
          "output_type": "execute_result",
          "data": {
            "text/plain": [
              "[200912]    1512\n",
              "[201001]    1010\n",
              "[201002]    1104\n",
              "[201003]    1521\n",
              "[201004]    1329\n",
              "[201005]    1377\n",
              "[201006]    1497\n",
              "[201007]    1381\n",
              "[201008]    1293\n",
              "[201009]    1688\n",
              "[201010]    2133\n",
              "[201011]    2587\n",
              "[201012]     776\n",
              "Name: year_month, dtype: int64"
            ]
          },
          "metadata": {
            "tags": []
          },
          "execution_count": 42
        }
      ]
    },
    {
      "cell_type": "code",
      "metadata": {
        "id": "MKQFHS-PCWie",
        "colab_type": "code",
        "outputId": "424f35f9-9773-477f-f23d-5103e06caf88",
        "colab": {
          "base_uri": "https://localhost:8080/",
          "height": 458
        }
      },
      "source": [
        "om = ord_month.plot('bar', figsize = (15, 6))\n",
        "om.set_xlabel('Month')\n",
        "om.set_ylabel('Number of Orders')\n",
        "om.set_title('Orders per Month')\n",
        "om.set_xticklabels(('Dec 09', 'Jan 10', 'Feb 10', 'Mar 10', 'Apr 10', 'May 10', \n",
        "                           'Jun 10', 'Jul 10', 'Aug 10', 'Sep 10', 'Oct 10', 'Nov 10', 'Dec 10'), rotation = 'horizontal')\n",
        "plt.show()"
      ],
      "execution_count": 46,
      "outputs": [
        {
          "output_type": "stream",
          "text": [
            "/usr/local/lib/python3.6/dist-packages/ipykernel_launcher.py:1: FutureWarning: `Series.plot()` should not be called with positional arguments, only keyword arguments. The order of positional arguments will change in the future. Use `Series.plot(kind='bar')` instead of `Series.plot('bar',)`.\n",
            "  \"\"\"Entry point for launching an IPython kernel.\n"
          ],
          "name": "stderr"
        },
        {
          "output_type": "display_data",
          "data": {
            "image/png": "[encoded data removed]",
            "text/plain": [
              "<Figure size 1080x432 with 1 Axes>"
            ]
          },
          "metadata": {
            "tags": []
          }
        }
      ]
    },
    {
      "cell_type": "code",
      "metadata": {
        "id": "D6Rk2JHqE-p9",
        "colab_type": "code",
        "outputId": "e9cf9e11-8490-41d1-8261-7035537222f4",
        "colab": {
          "base_uri": "https://localhost:8080/",
          "height": 561
        }
      },
      "source": [
        "ord_day = retail.groupby('invoice')['day'].unique().value_counts().sort_index()\n",
        "ord_day\n"
      ],
      "execution_count": 47,
      "outputs": [
        {
          "output_type": "execute_result",
          "data": {
            "text/plain": [
              "[1]     708\n",
              "[2]     696\n",
              "[3]     610\n",
              "[4]     595\n",
              "[5]     661\n",
              "[6]     572\n",
              "[7]     812\n",
              "[8]     827\n",
              "[9]     689\n",
              "[10]    609\n",
              "[11]    655\n",
              "[12]    576\n",
              "[13]    512\n",
              "[14]    634\n",
              "[15]    732\n",
              "[16]    617\n",
              "[17]    600\n",
              "[18]    687\n",
              "[19]    601\n",
              "[20]    506\n",
              "[21]    649\n",
              "[22]    636\n",
              "[23]    573\n",
              "[24]    602\n",
              "[25]    667\n",
              "[26]    672\n",
              "[27]    517\n",
              "[28]    671\n",
              "[29]    614\n",
              "[30]    457\n",
              "[31]    251\n",
              "Name: day, dtype: int64"
            ]
          },
          "metadata": {
            "tags": []
          },
          "execution_count": 47
        }
      ]
    },
    {
      "cell_type": "code",
      "metadata": {
        "id": "uAZFtntUFEGQ",
        "colab_type": "code",
        "outputId": "92458293-afed-4612-8acb-64949fad8834",
        "colab": {
          "base_uri": "https://localhost:8080/",
          "height": 458
        }
      },
      "source": [
        "od = ord_day.plot('bar', figsize = (15, 6))\n",
        "od.set_xlabel('Day of the Month')\n",
        "od.set_ylabel('Number of Orders')\n",
        "od.set_title('Orders per Day of the Month')\n",
        "od.set_xticklabels(labels = [i for i in range (1, 32)], rotation = 'horizontal')\n",
        "plt.show()\n"
      ],
      "execution_count": 48,
      "outputs": [
        {
          "output_type": "stream",
          "text": [
            "/usr/local/lib/python3.6/dist-packages/ipykernel_launcher.py:1: FutureWarning: `Series.plot()` should not be called with positional arguments, only keyword arguments. The order of positional arguments will change in the future. Use `Series.plot(kind='bar')` instead of `Series.plot('bar',)`.\n",
            "  \"\"\"Entry point for launching an IPython kernel.\n"
          ],
          "name": "stderr"
        },
        {
          "output_type": "display_data",
          "data": {
            "image/png": "[encoded data removed]",
            "text/plain": [
              "<Figure size 1080x432 with 1 Axes>"
            ]
          },
          "metadata": {
            "tags": []
          }
        }
      ]
    },
    {
      "cell_type": "code",
      "metadata": {
        "id": "qTiFQcayFF0r",
        "colab_type": "code",
        "outputId": "4f25881b-aad3-49f2-cdfd-afa0e8524bbb",
        "colab": {
          "base_uri": "https://localhost:8080/",
          "height": 153
        }
      },
      "source": [
        "ord_dayofweek = retail.groupby('invoice')['day_of_week'].unique().value_counts().sort_index()\n",
        "ord_dayofweek\n"
      ],
      "execution_count": 49,
      "outputs": [
        {
          "output_type": "execute_result",
          "data": {
            "text/plain": [
              "[1]    2985\n",
              "[2]    3513\n",
              "[3]    3426\n",
              "[4]    3976\n",
              "[5]    2612\n",
              "[6]      30\n",
              "[7]    2666\n",
              "Name: day_of_week, dtype: int64"
            ]
          },
          "metadata": {
            "tags": []
          },
          "execution_count": 49
        }
      ]
    },
    {
      "cell_type": "code",
      "metadata": {
        "id": "1hmIDdJJFL7D",
        "colab_type": "code",
        "outputId": "78c1fd55-c940-4bf8-8261-413eb4a4157d",
        "colab": {
          "base_uri": "https://localhost:8080/",
          "height": 458
        }
      },
      "source": [
        "odw = ord_dayofweek.plot('bar', figsize = (15, 6))\n",
        "odw.set_xlabel('Day of the Week')\n",
        "odw.set_ylabel('Number of Orders')\n",
        "odw.set_title('Orders per Day of the Week')\n",
        "odw.set_xticklabels(labels = ['Mon', 'Tues', 'Wed', 'Thurs', 'Fri', 'Sat', 'Sun'], rotation = 'horizontal')\n",
        "plt.show()\n"
      ],
      "execution_count": 51,
      "outputs": [
        {
          "output_type": "stream",
          "text": [
            "/usr/local/lib/python3.6/dist-packages/ipykernel_launcher.py:1: FutureWarning: `Series.plot()` should not be called with positional arguments, only keyword arguments. The order of positional arguments will change in the future. Use `Series.plot(kind='bar')` instead of `Series.plot('bar',)`.\n",
            "  \"\"\"Entry point for launching an IPython kernel.\n"
          ],
          "name": "stderr"
        },
        {
          "output_type": "display_data",
          "data": {
            "image/png": "[encoded data removed]",
            "text/plain": [
              "<Figure size 1080x432 with 1 Axes>"
            ]
          },
          "metadata": {
            "tags": []
          }
        }
      ]
    },
    {
      "cell_type": "code",
      "metadata": {
        "id": "vpkM8YH5FP1F",
        "colab_type": "code",
        "outputId": "38c7ba96-bb86-444a-eeca-7fd831340c06",
        "colab": {
          "base_uri": "https://localhost:8080/",
          "height": 272
        }
      },
      "source": [
        "ord_hour = retail.groupby(by = ['invoice'])['hour'].unique().value_counts().sort_index()\n",
        "ord_hour\n"
      ],
      "execution_count": 52,
      "outputs": [
        {
          "output_type": "execute_result",
          "data": {
            "text/plain": [
              "[7]       49\n",
              "[8]      444\n",
              "[9]     1209\n",
              "[10]    2232\n",
              "[11]    2407\n",
              "[12]    3173\n",
              "[13]    2891\n",
              "[14]    2365\n",
              "[15]    2061\n",
              "[16]    1263\n",
              "[17]     637\n",
              "[18]     258\n",
              "[19]     185\n",
              "[20]      34\n",
              "Name: hour, dtype: int64"
            ]
          },
          "metadata": {
            "tags": []
          },
          "execution_count": 52
        }
      ]
    },
    {
      "cell_type": "code",
      "metadata": {
        "id": "NPrM5JrbFThv",
        "colab_type": "code",
        "outputId": "dc98ea65-ce28-48bd-e4fa-dbb74d283b74",
        "colab": {
          "base_uri": "https://localhost:8080/",
          "height": 458
        }
      },
      "source": [
        "oh = ord_hour.plot('bar', figsize = (15, 6))\n",
        "oh.set_xlabel('Hour of the Day')\n",
        "oh.set_ylabel('Number of Orders')\n",
        "oh.set_title('Orders per Hour of the Day')\n",
        "oh.set_xticklabels(labels = [i for i in range (7, 21)], rotation = 'horizontal')\n",
        "plt.show()\n"
      ],
      "execution_count": 53,
      "outputs": [
        {
          "output_type": "stream",
          "text": [
            "/usr/local/lib/python3.6/dist-packages/ipykernel_launcher.py:1: FutureWarning: `Series.plot()` should not be called with positional arguments, only keyword arguments. The order of positional arguments will change in the future. Use `Series.plot(kind='bar')` instead of `Series.plot('bar',)`.\n",
            "  \"\"\"Entry point for launching an IPython kernel.\n"
          ],
          "name": "stderr"
        },
        {
          "output_type": "display_data",
          "data": {
            "image/png": "[encoded data removed]",
            "text/plain": [
              "<Figure size 1080x432 with 1 Axes>"
            ]
          },
          "metadata": {
            "tags": []
          }
        }
      ]
    },
    {
      "cell_type": "code",
      "metadata": {
        "id": "08QmvFW-FV_N",
        "colab_type": "code",
        "outputId": "6d554993-7fe9-4d2a-ae46-13964bd8d710",
        "colab": {
          "base_uri": "https://localhost:8080/",
          "height": 204
        }
      },
      "source": [
        "q_item = retail.groupby(by = ['desc'], as_index = False)['quantity'].sum()\n",
        "q_item.head()\n"
      ],
      "execution_count": 54,
      "outputs": [
        {
          "output_type": "execute_result",
          "data": {
            "text/html": [
              "<div>\n",
              "<style scoped>\n",
              "    .dataframe tbody tr th:only-of-type {\n",
              "        vertical-align: middle;\n",
              "    }\n",
              "\n",
              "    .dataframe tbody tr th {\n",
              "        vertical-align: top;\n",
              "    }\n",
              "\n",
              "    .dataframe thead th {\n",
              "        text-align: right;\n",
              "    }\n",
              "</style>\n",
              "<table border=\"1\" class=\"dataframe\">\n",
              "  <thead>\n",
              "    <tr style=\"text-align: right;\">\n",
              "      <th></th>\n",
              "      <th>desc</th>\n",
              "      <th>quantity</th>\n",
              "    </tr>\n",
              "  </thead>\n",
              "  <tbody>\n",
              "    <tr>\n",
              "      <th>0</th>\n",
              "      <td>doormat union jack guns and roses</td>\n",
              "      <td>169</td>\n",
              "    </tr>\n",
              "    <tr>\n",
              "      <th>1</th>\n",
              "      <td>3 stripey mice feltcraft</td>\n",
              "      <td>663</td>\n",
              "    </tr>\n",
              "    <tr>\n",
              "      <th>2</th>\n",
              "      <td>4 purple flock dinner candles</td>\n",
              "      <td>200</td>\n",
              "    </tr>\n",
              "    <tr>\n",
              "      <th>3</th>\n",
              "      <td>animal stickers</td>\n",
              "      <td>385</td>\n",
              "    </tr>\n",
              "    <tr>\n",
              "      <th>4</th>\n",
              "      <td>bank charges</td>\n",
              "      <td>2</td>\n",
              "    </tr>\n",
              "  </tbody>\n",
              "</table>\n",
              "</div>"
            ],
            "text/plain": [
              "                                  desc  quantity\n",
              "0    doormat union jack guns and roses       169\n",
              "1             3 stripey mice feltcraft       663\n",
              "2        4 purple flock dinner candles       200\n",
              "3                      animal stickers       385\n",
              "4                         bank charges         2"
            ]
          },
          "metadata": {
            "tags": []
          },
          "execution_count": 54
        }
      ]
    },
    {
      "cell_type": "code",
      "metadata": {
        "id": "rIhqiRCoFZQB",
        "colab_type": "code",
        "outputId": "00086743-a2cf-4233-8fb5-090dd4741f1c",
        "colab": {
          "base_uri": "https://localhost:8080/",
          "height": 204
        }
      },
      "source": [
        "q_item.sort_values(by = 'quantity', ascending = False).head()"
      ],
      "execution_count": 56,
      "outputs": [
        {
          "output_type": "execute_result",
          "data": {
            "text/html": [
              "<div>\n",
              "<style scoped>\n",
              "    .dataframe tbody tr th:only-of-type {\n",
              "        vertical-align: middle;\n",
              "    }\n",
              "\n",
              "    .dataframe tbody tr th {\n",
              "        vertical-align: top;\n",
              "    }\n",
              "\n",
              "    .dataframe thead th {\n",
              "        text-align: right;\n",
              "    }\n",
              "</style>\n",
              "<table border=\"1\" class=\"dataframe\">\n",
              "  <thead>\n",
              "    <tr style=\"text-align: right;\">\n",
              "      <th></th>\n",
              "      <th>desc</th>\n",
              "      <th>quantity</th>\n",
              "    </tr>\n",
              "  </thead>\n",
              "  <tbody>\n",
              "    <tr>\n",
              "      <th>4260</th>\n",
              "      <td>white hanging heart t-light holder</td>\n",
              "      <td>56915</td>\n",
              "    </tr>\n",
              "    <tr>\n",
              "      <th>4366</th>\n",
              "      <td>world war 2 gliders asstd designs</td>\n",
              "      <td>54754</td>\n",
              "    </tr>\n",
              "    <tr>\n",
              "      <th>691</th>\n",
              "      <td>brocade ring purse</td>\n",
              "      <td>48166</td>\n",
              "    </tr>\n",
              "    <tr>\n",
              "      <th>2632</th>\n",
              "      <td>pack of 72 retro spot cake cases</td>\n",
              "      <td>45156</td>\n",
              "    </tr>\n",
              "    <tr>\n",
              "      <th>262</th>\n",
              "      <td>assorted colour bird ornament</td>\n",
              "      <td>44551</td>\n",
              "    </tr>\n",
              "  </tbody>\n",
              "</table>\n",
              "</div>"
            ],
            "text/plain": [
              "                                    desc  quantity\n",
              "4260  white hanging heart t-light holder     56915\n",
              "4366   world war 2 gliders asstd designs     54754\n",
              "691                  brocade ring purse      48166\n",
              "2632    pack of 72 retro spot cake cases     45156\n",
              "262        assorted colour bird ornament     44551"
            ]
          },
          "metadata": {
            "tags": []
          },
          "execution_count": 56
        }
      ]
    },
    {
      "cell_type": "code",
      "metadata": {
        "id": "pQ-1pwfKFany",
        "colab_type": "code",
        "outputId": "486e3155-262d-43cc-9d5e-865d4516fc6e",
        "colab": {
          "base_uri": "https://localhost:8080/",
          "height": 204
        }
      },
      "source": [
        "q_item.sort_values(by = 'quantity', ascending = False).tail()"
      ],
      "execution_count": 57,
      "outputs": [
        {
          "output_type": "execute_result",
          "data": {
            "text/html": [
              "<div>\n",
              "<style scoped>\n",
              "    .dataframe tbody tr th:only-of-type {\n",
              "        vertical-align: middle;\n",
              "    }\n",
              "\n",
              "    .dataframe tbody tr th {\n",
              "        vertical-align: top;\n",
              "    }\n",
              "\n",
              "    .dataframe thead th {\n",
              "        text-align: right;\n",
              "    }\n",
              "</style>\n",
              "<table border=\"1\" class=\"dataframe\">\n",
              "  <thead>\n",
              "    <tr style=\"text-align: right;\">\n",
              "      <th></th>\n",
              "      <th>desc</th>\n",
              "      <th>quantity</th>\n",
              "    </tr>\n",
              "  </thead>\n",
              "  <tbody>\n",
              "    <tr>\n",
              "      <th>2544</th>\n",
              "      <td>opal white/silver flower necklace</td>\n",
              "      <td>1</td>\n",
              "    </tr>\n",
              "    <tr>\n",
              "      <th>1789</th>\n",
              "      <td>green chenille shaggy c/cover</td>\n",
              "      <td>1</td>\n",
              "    </tr>\n",
              "    <tr>\n",
              "      <th>2337</th>\n",
              "      <td>midnight blue crystal drop earrings</td>\n",
              "      <td>1</td>\n",
              "    </tr>\n",
              "    <tr>\n",
              "      <th>3728</th>\n",
              "      <td>silicon cube 25w, blue</td>\n",
              "      <td>1</td>\n",
              "    </tr>\n",
              "    <tr>\n",
              "      <th>1381</th>\n",
              "      <td>f.fairy s/3 sml candle, lavender</td>\n",
              "      <td>1</td>\n",
              "    </tr>\n",
              "  </tbody>\n",
              "</table>\n",
              "</div>"
            ],
            "text/plain": [
              "                                     desc  quantity\n",
              "2544    opal white/silver flower necklace         1\n",
              "1789        green chenille shaggy c/cover         1\n",
              "2337  midnight blue crystal drop earrings         1\n",
              "3728               silicon cube 25w, blue         1\n",
              "1381     f.fairy s/3 sml candle, lavender         1"
            ]
          },
          "metadata": {
            "tags": []
          },
          "execution_count": 57
        }
      ]
    },
    {
      "cell_type": "code",
      "metadata": {
        "id": "njd42kr0Fed_",
        "colab_type": "code",
        "outputId": "395b9834-8717-4d94-ebda-b97e9785b2da",
        "colab": {
          "base_uri": "https://localhost:8080/",
          "height": 136
        }
      },
      "source": [
        "ord_coun = retail.groupby(['country'])['invoice'].count().sort_values()\n",
        "ord_coun.head()\n"
      ],
      "execution_count": 58,
      "outputs": [
        {
          "output_type": "execute_result",
          "data": {
            "text/plain": [
              "country\n",
              "Nigeria        30\n",
              "Bahrain        42\n",
              "Korea          53\n",
              "West Indies    54\n",
              "Brazil         62\n",
              "Name: invoice, dtype: int64"
            ]
          },
          "metadata": {
            "tags": []
          },
          "execution_count": 58
        }
      ]
    },
    {
      "cell_type": "code",
      "metadata": {
        "id": "QYpKPUb0Fglu",
        "colab_type": "code",
        "outputId": "da90ef7f-9c32-4d8a-f97f-3813a104cb79",
        "colab": {
          "base_uri": "https://localhost:8080/",
          "height": 458
        }
      },
      "source": [
        "ocoun = ord_coun.plot('barh', figsize = (15, 6))\n",
        "ocoun.set_xlabel('Number of Orders')\n",
        "ocoun.set_ylabel('Country')\n",
        "ocoun.set_title('Orders per Country')\n",
        "plt.show()\n"
      ],
      "execution_count": 60,
      "outputs": [
        {
          "output_type": "stream",
          "text": [
            "/usr/local/lib/python3.6/dist-packages/ipykernel_launcher.py:1: FutureWarning: `Series.plot()` should not be called with positional arguments, only keyword arguments. The order of positional arguments will change in the future. Use `Series.plot(kind='barh')` instead of `Series.plot('barh',)`.\n",
            "  \"\"\"Entry point for launching an IPython kernel.\n"
          ],
          "name": "stderr"
        },
        {
          "output_type": "display_data",
          "data": {
            "image/png": "[encoded data removed]",
            "text/plain": [
              "<Figure size 1080x432 with 1 Axes>"
            ]
          },
          "metadata": {
            "tags": []
          }
        }
      ]
    },
    {
      "cell_type": "code",
      "metadata": {
        "id": "hYiky3gbFkC4",
        "colab_type": "code",
        "colab": {}
      },
      "source": [
        "del ord_coun['United Kingdom']"
      ],
      "execution_count": 0,
      "outputs": []
    },
    {
      "cell_type": "code",
      "metadata": {
        "id": "gI4aVRssFmRH",
        "colab_type": "code",
        "outputId": "7f4e0786-ae6c-4dfa-d28d-1904c7fdfb04",
        "colab": {
          "base_uri": "https://localhost:8080/",
          "height": 458
        }
      },
      "source": [
        "ocoun2 = ord_coun.plot('barh', figsize = (15, 6))\n",
        "ocoun2.set_xlabel('Number of Orders')\n",
        "ocoun2.set_ylabel('Country')\n",
        "ocoun2.set_title('Orders per Country')\n",
        "plt.show()\n"
      ],
      "execution_count": 62,
      "outputs": [
        {
          "output_type": "stream",
          "text": [
            "/usr/local/lib/python3.6/dist-packages/ipykernel_launcher.py:1: FutureWarning: `Series.plot()` should not be called with positional arguments, only keyword arguments. The order of positional arguments will change in the future. Use `Series.plot(kind='barh')` instead of `Series.plot('barh',)`.\n",
            "  \"\"\"Entry point for launching an IPython kernel.\n"
          ],
          "name": "stderr"
        },
        {
          "output_type": "display_data",
          "data": {
            "image/png": "[encoded data removed]",
            "text/plain": [
              "<Figure size 1080x432 with 1 Axes>"
            ]
          },
          "metadata": {
            "tags": []
          }
        }
      ]
    },
    {
      "cell_type": "code",
      "metadata": {
        "id": "5fJBqEnIFoQF",
        "colab_type": "code",
        "outputId": "3c96903a-8fd8-42bb-9535-07b813e83dac",
        "colab": {
          "base_uri": "https://localhost:8080/",
          "height": 458
        }
      },
      "source": [
        "coun_spent = retail.groupby('country')['spent'].sum().sort_values()\n",
        "\n",
        "cs = coun_spent.plot('barh', figsize = (15, 6))\n",
        "cs.set_xlabel('Amount Spent')\n",
        "cs.set_ylabel('Country')\n",
        "cs.set_title('Amount Spent per Country')\n",
        "plt.show()\n"
      ],
      "execution_count": 63,
      "outputs": [
        {
          "output_type": "stream",
          "text": [
            "/usr/local/lib/python3.6/dist-packages/ipykernel_launcher.py:3: FutureWarning: `Series.plot()` should not be called with positional arguments, only keyword arguments. The order of positional arguments will change in the future. Use `Series.plot(kind='barh')` instead of `Series.plot('barh',)`.\n",
            "  This is separate from the ipykernel package so we can avoid doing imports until\n"
          ],
          "name": "stderr"
        },
        {
          "output_type": "display_data",
          "data": {
            "image/png": "[encoded data removed]",
            "text/plain": [
              "<Figure size 1080x432 with 1 Axes>"
            ]
          },
          "metadata": {
            "tags": []
          }
        }
      ]
    },
    {
      "cell_type": "code",
      "metadata": {
        "id": "_PFTCsdoFrI0",
        "colab_type": "code",
        "colab": {}
      },
      "source": [
        "del coun_spent['United Kingdom']"
      ],
      "execution_count": 0,
      "outputs": []
    },
    {
      "cell_type": "code",
      "metadata": {
        "id": "cklfCslQFvqS",
        "colab_type": "code",
        "outputId": "a9029781-96a0-4678-c6ed-aeb5f17884ed",
        "colab": {
          "base_uri": "https://localhost:8080/",
          "height": 458
        }
      },
      "source": [
        "cs2 = coun_spent.plot('barh', figsize = (15, 6))\n",
        "cs2.set_xlabel('Amount Spent')\n",
        "cs2.set_ylabel('Country')\n",
        "cs2.set_title('Amount Spent per Country')\n",
        "plt.show()\n"
      ],
      "execution_count": 66,
      "outputs": [
        {
          "output_type": "stream",
          "text": [
            "/usr/local/lib/python3.6/dist-packages/ipykernel_launcher.py:1: FutureWarning: `Series.plot()` should not be called with positional arguments, only keyword arguments. The order of positional arguments will change in the future. Use `Series.plot(kind='barh')` instead of `Series.plot('barh',)`.\n",
            "  \"\"\"Entry point for launching an IPython kernel.\n"
          ],
          "name": "stderr"
        },
        {
          "output_type": "display_data",
          "data": {
            "image/png": "[encoded data removed]",
            "text/plain": [
              "<Figure size 1080x432 with 1 Axes>"
            ]
          },
          "metadata": {
            "tags": []
          }
        }
      ]
    }
  ]
}